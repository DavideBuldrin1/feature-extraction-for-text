{
  "cells": [
    {
      "cell_type": "markdown",
      "metadata": {
        "id": "view-in-github",
        "colab_type": "text"
      },
      "source": [
        "<a href=\"https://colab.research.google.com/github/DavideBuldrin1/feature-extraction-for-text/blob/main/transformers.ipynb\" target=\"_parent\"><img src=\"https://colab.research.google.com/assets/colab-badge.svg\" alt=\"Open In Colab\"/></a>"
      ]
    },
    {
      "cell_type": "markdown",
      "metadata": {
        "id": "ukpo1V6oAarY"
      },
      "source": [
        "# Install Dependencies and Import Libraries"
      ]
    },
    {
      "cell_type": "code",
      "execution_count": null,
      "metadata": {
        "colab": {
          "background_save": true,
          "base_uri": "https://localhost:8080/"
        },
        "id": "5JIAEZu5wjzE",
        "outputId": "492e1875-6150-41e9-b6c0-c5c1a605e86e"
      },
      "outputs": [
        {
          "name": "stdout",
          "output_type": "stream",
          "text": [
            "Collecting faiss-gpu\n",
            "  Downloading faiss_gpu-1.7.2-cp310-cp310-manylinux_2_17_x86_64.manylinux2014_x86_64.whl (85.5 MB)\n",
            "\u001b[2K     \u001b[90m━━━━━━━━━━━━━━━━━━━━━━━━━━━━━━━━━━━━━━━━\u001b[0m \u001b[32m85.5/85.5 MB\u001b[0m \u001b[31m10.9 MB/s\u001b[0m eta \u001b[36m0:00:00\u001b[0m\n",
            "\u001b[?25hInstalling collected packages: faiss-gpu\n",
            "Successfully installed faiss-gpu-1.7.2\n",
            "Collecting transformers\n",
            "  Downloading transformers-4.34.0-py3-none-any.whl (7.7 MB)\n",
            "\u001b[2K     \u001b[90m━━━━━━━━━━━━━━━━━━━━━━━━━━━━━━━━━━━━━━━━\u001b[0m \u001b[32m7.7/7.7 MB\u001b[0m \u001b[31m11.8 MB/s\u001b[0m eta \u001b[36m0:00:00\u001b[0m\n",
            "\u001b[?25hRequirement already satisfied: filelock in /usr/local/lib/python3.10/dist-packages (from transformers) (3.12.4)\n",
            "Collecting huggingface-hub<1.0,>=0.16.4 (from transformers)\n",
            "  Downloading huggingface_hub-0.18.0-py3-none-any.whl (301 kB)\n",
            "\u001b[2K     \u001b[90m━━━━━━━━━━━━━━━━━━━━━━━━━━━━━━━━━━━━━━━━\u001b[0m \u001b[32m302.0/302.0 kB\u001b[0m \u001b[31m25.0 MB/s\u001b[0m eta \u001b[36m0:00:00\u001b[0m\n",
            "\u001b[?25hRequirement already satisfied: numpy>=1.17 in /usr/local/lib/python3.10/dist-packages (from transformers) (1.23.5)\n",
            "Requirement already satisfied: packaging>=20.0 in /usr/local/lib/python3.10/dist-packages (from transformers) (23.2)\n",
            "Requirement already satisfied: pyyaml>=5.1 in /usr/local/lib/python3.10/dist-packages (from transformers) (6.0.1)\n",
            "Requirement already satisfied: regex!=2019.12.17 in /usr/local/lib/python3.10/dist-packages (from transformers) (2023.6.3)\n",
            "Requirement already satisfied: requests in /usr/local/lib/python3.10/dist-packages (from transformers) (2.31.0)\n",
            "Collecting tokenizers<0.15,>=0.14 (from transformers)\n",
            "  Downloading tokenizers-0.14.1-cp310-cp310-manylinux_2_17_x86_64.manylinux2014_x86_64.whl (3.8 MB)\n",
            "\u001b[2K     \u001b[90m━━━━━━━━━━━━━━━━━━━━━━━━━━━━━━━━━━━━━━━━\u001b[0m \u001b[32m3.8/3.8 MB\u001b[0m \u001b[31m29.3 MB/s\u001b[0m eta \u001b[36m0:00:00\u001b[0m\n",
            "\u001b[?25hCollecting safetensors>=0.3.1 (from transformers)\n",
            "  Downloading safetensors-0.4.0-cp310-cp310-manylinux_2_17_x86_64.manylinux2014_x86_64.whl (1.3 MB)\n",
            "\u001b[2K     \u001b[90m━━━━━━━━━━━━━━━━━━━━━━━━━━━━━━━━━━━━━━━━\u001b[0m \u001b[32m1.3/1.3 MB\u001b[0m \u001b[31m29.4 MB/s\u001b[0m eta \u001b[36m0:00:00\u001b[0m\n",
            "\u001b[?25hRequirement already satisfied: tqdm>=4.27 in /usr/local/lib/python3.10/dist-packages (from transformers) (4.66.1)\n",
            "Requirement already satisfied: fsspec>=2023.5.0 in /usr/local/lib/python3.10/dist-packages (from huggingface-hub<1.0,>=0.16.4->transformers) (2023.6.0)\n",
            "Requirement already satisfied: typing-extensions>=3.7.4.3 in /usr/local/lib/python3.10/dist-packages (from huggingface-hub<1.0,>=0.16.4->transformers) (4.5.0)\n",
            "Collecting huggingface-hub<1.0,>=0.16.4 (from transformers)\n",
            "  Downloading huggingface_hub-0.17.3-py3-none-any.whl (295 kB)\n",
            "\u001b[2K     \u001b[90m━━━━━━━━━━━━━━━━━━━━━━━━━━━━━━━━━━━━━━━━\u001b[0m \u001b[32m295.0/295.0 kB\u001b[0m \u001b[31m24.4 MB/s\u001b[0m eta \u001b[36m0:00:00\u001b[0m\n",
            "\u001b[?25hRequirement already satisfied: charset-normalizer<4,>=2 in /usr/local/lib/python3.10/dist-packages (from requests->transformers) (3.3.0)\n",
            "Requirement already satisfied: idna<4,>=2.5 in /usr/local/lib/python3.10/dist-packages (from requests->transformers) (3.4)\n",
            "Requirement already satisfied: urllib3<3,>=1.21.1 in /usr/local/lib/python3.10/dist-packages (from requests->transformers) (2.0.6)\n",
            "Requirement already satisfied: certifi>=2017.4.17 in /usr/local/lib/python3.10/dist-packages (from requests->transformers) (2023.7.22)\n",
            "Installing collected packages: safetensors, huggingface-hub, tokenizers, transformers\n",
            "Successfully installed huggingface-hub-0.17.3 safetensors-0.4.0 tokenizers-0.14.1 transformers-4.34.0\n",
            "Collecting pytorch-metric-learning\n",
            "  Downloading pytorch_metric_learning-2.3.0-py3-none-any.whl (115 kB)\n",
            "\u001b[2K     \u001b[90m━━━━━━━━━━━━━━━━━━━━━━━━━━━━━━━━━━━━━━━━\u001b[0m \u001b[32m115.3/115.3 kB\u001b[0m \u001b[31m2.5 MB/s\u001b[0m eta \u001b[36m0:00:00\u001b[0m\n",
            "\u001b[?25hRequirement already satisfied: numpy in /usr/local/lib/python3.10/dist-packages (from pytorch-metric-learning) (1.23.5)\n",
            "Requirement already satisfied: scikit-learn in /usr/local/lib/python3.10/dist-packages (from pytorch-metric-learning) (1.2.2)\n",
            "Requirement already satisfied: tqdm in /usr/local/lib/python3.10/dist-packages (from pytorch-metric-learning) (4.66.1)\n",
            "Requirement already satisfied: torch>=1.6.0 in /usr/local/lib/python3.10/dist-packages (from pytorch-metric-learning) (2.0.1+cu118)\n",
            "Requirement already satisfied: filelock in /usr/local/lib/python3.10/dist-packages (from torch>=1.6.0->pytorch-metric-learning) (3.12.4)\n",
            "Requirement already satisfied: typing-extensions in /usr/local/lib/python3.10/dist-packages (from torch>=1.6.0->pytorch-metric-learning) (4.5.0)\n",
            "Requirement already satisfied: sympy in /usr/local/lib/python3.10/dist-packages (from torch>=1.6.0->pytorch-metric-learning) (1.12)\n",
            "Requirement already satisfied: networkx in /usr/local/lib/python3.10/dist-packages (from torch>=1.6.0->pytorch-metric-learning) (3.1)\n",
            "Requirement already satisfied: jinja2 in /usr/local/lib/python3.10/dist-packages (from torch>=1.6.0->pytorch-metric-learning) (3.1.2)\n",
            "Requirement already satisfied: triton==2.0.0 in /usr/local/lib/python3.10/dist-packages (from torch>=1.6.0->pytorch-metric-learning) (2.0.0)\n",
            "Requirement already satisfied: cmake in /usr/local/lib/python3.10/dist-packages (from triton==2.0.0->torch>=1.6.0->pytorch-metric-learning) (3.27.6)\n",
            "Requirement already satisfied: lit in /usr/local/lib/python3.10/dist-packages (from triton==2.0.0->torch>=1.6.0->pytorch-metric-learning) (17.0.2)\n",
            "Requirement already satisfied: scipy>=1.3.2 in /usr/local/lib/python3.10/dist-packages (from scikit-learn->pytorch-metric-learning) (1.11.3)\n",
            "Requirement already satisfied: joblib>=1.1.1 in /usr/local/lib/python3.10/dist-packages (from scikit-learn->pytorch-metric-learning) (1.3.2)\n",
            "Requirement already satisfied: threadpoolctl>=2.0.0 in /usr/local/lib/python3.10/dist-packages (from scikit-learn->pytorch-metric-learning) (3.2.0)\n",
            "Requirement already satisfied: MarkupSafe>=2.0 in /usr/local/lib/python3.10/dist-packages (from jinja2->torch>=1.6.0->pytorch-metric-learning) (2.1.3)\n",
            "Requirement already satisfied: mpmath>=0.19 in /usr/local/lib/python3.10/dist-packages (from sympy->torch>=1.6.0->pytorch-metric-learning) (1.3.0)\n",
            "Installing collected packages: pytorch-metric-learning\n",
            "Successfully installed pytorch-metric-learning-2.3.0\n",
            "Collecting umap-learn\n",
            "  Downloading umap-learn-0.5.4.tar.gz (90 kB)\n",
            "\u001b[2K     \u001b[90m━━━━━━━━━━━━━━━━━━━━━━━━━━━━━━━━━━━━━━━━\u001b[0m \u001b[32m90.8/90.8 kB\u001b[0m \u001b[31m1.7 MB/s\u001b[0m eta \u001b[36m0:00:00\u001b[0m\n",
            "\u001b[?25h  Preparing metadata (setup.py) ... \u001b[?25l\u001b[?25hdone\n",
            "Requirement already satisfied: numpy>=1.17 in /usr/local/lib/python3.10/dist-packages (from umap-learn) (1.23.5)\n",
            "Requirement already satisfied: scipy>=1.3.1 in /usr/local/lib/python3.10/dist-packages (from umap-learn) (1.11.3)\n",
            "Requirement already satisfied: scikit-learn>=0.22 in /usr/local/lib/python3.10/dist-packages (from umap-learn) (1.2.2)\n",
            "Requirement already satisfied: numba>=0.51.2 in /usr/local/lib/python3.10/dist-packages (from umap-learn) (0.56.4)\n",
            "Collecting pynndescent>=0.5 (from umap-learn)\n",
            "  Downloading pynndescent-0.5.10.tar.gz (1.1 MB)\n",
            "\u001b[2K     \u001b[90m━━━━━━━━━━━━━━━━━━━━━━━━━━━━━━━━━━━━━━━━\u001b[0m \u001b[32m1.1/1.1 MB\u001b[0m \u001b[31m20.9 MB/s\u001b[0m eta \u001b[36m0:00:00\u001b[0m\n",
            "\u001b[?25h  Preparing metadata (setup.py) ... \u001b[?25l\u001b[?25hdone\n",
            "Requirement already satisfied: tqdm in /usr/local/lib/python3.10/dist-packages (from umap-learn) (4.66.1)\n",
            "Requirement already satisfied: tbb>=2019.0 in /usr/local/lib/python3.10/dist-packages (from umap-learn) (2021.10.0)\n",
            "Requirement already satisfied: llvmlite<0.40,>=0.39.0dev0 in /usr/local/lib/python3.10/dist-packages (from numba>=0.51.2->umap-learn) (0.39.1)\n",
            "Requirement already satisfied: setuptools in /usr/local/lib/python3.10/dist-packages (from numba>=0.51.2->umap-learn) (67.7.2)\n",
            "Requirement already satisfied: joblib>=0.11 in /usr/local/lib/python3.10/dist-packages (from pynndescent>=0.5->umap-learn) (1.3.2)\n",
            "Requirement already satisfied: threadpoolctl>=2.0.0 in /usr/local/lib/python3.10/dist-packages (from scikit-learn>=0.22->umap-learn) (3.2.0)\n",
            "Building wheels for collected packages: umap-learn, pynndescent\n",
            "  Building wheel for umap-learn (setup.py) ... \u001b[?25l\u001b[?25hdone\n",
            "  Created wheel for umap-learn: filename=umap_learn-0.5.4-py3-none-any.whl size=86770 sha256=68e2fbb00a4b9f57090476825fe92844c70282e2738ef0d78a8956698e992286\n",
            "  Stored in directory: /root/.cache/pip/wheels/fb/66/29/199acf5784d0f7b8add6d466175ab45506c96e386ed5dd0633\n",
            "  Building wheel for pynndescent (setup.py) ... \u001b[?25l\u001b[?25hdone\n",
            "  Created wheel for pynndescent: filename=pynndescent-0.5.10-py3-none-any.whl size=55615 sha256=80833d283a6cfd846817363d73e22f9638be7a9e6653e2a7e06d716a2c36db6b\n",
            "  Stored in directory: /root/.cache/pip/wheels/4a/38/5d/f60a40a66a9512b7e5e83517ebc2d1b42d857be97d135f1096\n",
            "Successfully built umap-learn pynndescent\n",
            "Installing collected packages: pynndescent, umap-learn\n",
            "Successfully installed pynndescent-0.5.10 umap-learn-0.5.4\n",
            "Collecting sentencepiece\n",
            "  Downloading sentencepiece-0.1.99-cp310-cp310-manylinux_2_17_x86_64.manylinux2014_x86_64.whl (1.3 MB)\n",
            "\u001b[2K     \u001b[90m━━━━━━━━━━━━━━━━━━━━━━━━━━━━━━━━━━━━━━━━\u001b[0m \u001b[32m1.3/1.3 MB\u001b[0m \u001b[31m14.6 MB/s\u001b[0m eta \u001b[36m0:00:00\u001b[0m\n",
            "\u001b[?25hInstalling collected packages: sentencepiece\n",
            "Successfully installed sentencepiece-0.1.99\n"
          ]
        }
      ],
      "source": [
        "!pip install faiss-gpu\n",
        "!pip install transformers\n",
        "!pip install pytorch-metric-learning\n",
        "!pip install umap-learn\n",
        "!pip install sentencepiece"
      ]
    },
    {
      "cell_type": "code",
      "execution_count": null,
      "metadata": {
        "colab": {
          "background_save": true
        },
        "id": "kxTxlwvMYFwK"
      },
      "outputs": [],
      "source": [
        "import numpy as np\n",
        "import faiss\n",
        "from typing import List\n",
        "import random\n",
        "import torch\n",
        "torch.set_printoptions(threshold=700)\n",
        "from tqdm import tqdm\n",
        "import h5py\n",
        "from dataclasses import dataclass\n",
        "import numpy as np\n",
        "import os\n",
        "import os.path\n",
        "import matplotlib.pyplot as plt\n",
        "from mpl_toolkits.axes_grid1 import ImageGrid\n",
        "import time\n",
        "from functools import reduce\n",
        "import math\n",
        "from pprint import pprint\n",
        "import umap\n",
        "from cycler import cycler\n",
        "np.random.seed(0)             # set the seed to make the experiments reproducible"
      ]
    },
    {
      "cell_type": "markdown",
      "metadata": {
        "id": "QdCHovraT7jH"
      },
      "source": [
        "# NLP with BERT and Transformers"
      ]
    },
    {
      "cell_type": "markdown",
      "metadata": {
        "id": "05fK7qI_ULUW"
      },
      "source": [
        "Transformer models can be used in python with the **Huggingface Transformers** (`pip install transformers`)\n",
        " library which comes with ready-to-use implementations of the SOTA models proposed in literature.\n",
        "\n",
        "We can easily create a BERT model using the `BertModel` class. We can load pretrained weights passing 'bert-base-uncased' in the `from_pretrained` method. This weights comes from the original BERT model which has been pretrained on Masked Language Modeling and Next Sentence Prediction tasks.\n",
        "\n",
        "To use the models, we must also create a `tokenizer` object that is required to encode the input before it can be fed to the transformer.\n",
        "\n",
        "Efficient Transformers like BigBird, Reformer, Transformer-XL etc... are also available\n",
        "\n"
      ]
    },
    {
      "cell_type": "code",
      "execution_count": null,
      "metadata": {
        "colab": {
          "base_uri": "https://localhost:8080/",
          "height": 305
        },
        "id": "xQZ1dyUnT_H-",
        "outputId": "a0f66e7e-aa9d-4d28-9084-3003d226b8c4"
      },
      "outputs": [
        {
          "data": {
            "application/vnd.jupyter.widget-view+json": {
              "model_id": "83c08a8d94394dd0a3dbe1e9d9223fdd",
              "version_major": 2,
              "version_minor": 0
            },
            "text/plain": [
              "Downloading (…)solve/main/vocab.txt:   0%|          | 0.00/232k [00:00<?, ?B/s]"
            ]
          },
          "metadata": {},
          "output_type": "display_data"
        },
        {
          "data": {
            "application/vnd.jupyter.widget-view+json": {
              "model_id": "927773b4c6bc4aadaab8c68414d6da45",
              "version_major": 2,
              "version_minor": 0
            },
            "text/plain": [
              "Downloading (…)okenizer_config.json:   0%|          | 0.00/28.0 [00:00<?, ?B/s]"
            ]
          },
          "metadata": {},
          "output_type": "display_data"
        },
        {
          "data": {
            "application/vnd.jupyter.widget-view+json": {
              "model_id": "f648aeaf7f6f45ee934b15efc27afa3c",
              "version_major": 2,
              "version_minor": 0
            },
            "text/plain": [
              "Downloading (…)lve/main/config.json:   0%|          | 0.00/570 [00:00<?, ?B/s]"
            ]
          },
          "metadata": {},
          "output_type": "display_data"
        },
        {
          "data": {
            "application/vnd.jupyter.widget-view+json": {
              "model_id": "ac85a8fc8e53462badfffca95faa9868",
              "version_major": 2,
              "version_minor": 0
            },
            "text/plain": [
              "Downloading model.safetensors:   0%|          | 0.00/440M [00:00<?, ?B/s]"
            ]
          },
          "metadata": {},
          "output_type": "display_data"
        },
        {
          "data": {
            "application/vnd.jupyter.widget-view+json": {
              "model_id": "4f8131feee0345b98482e2dbed96aa92",
              "version_major": 2,
              "version_minor": 0
            },
            "text/plain": [
              "Downloading spiece.model:   0%|          | 0.00/846k [00:00<?, ?B/s]"
            ]
          },
          "metadata": {},
          "output_type": "display_data"
        },
        {
          "data": {
            "application/vnd.jupyter.widget-view+json": {
              "model_id": "2e2b3b155bb146a9b008b0cefbde9e3d",
              "version_major": 2,
              "version_minor": 0
            },
            "text/plain": [
              "Downloading (…)cial_tokens_map.json:   0%|          | 0.00/775 [00:00<?, ?B/s]"
            ]
          },
          "metadata": {},
          "output_type": "display_data"
        },
        {
          "data": {
            "application/vnd.jupyter.widget-view+json": {
              "model_id": "f13ba9bc6afe4f7bb67650140c40d26c",
              "version_major": 2,
              "version_minor": 0
            },
            "text/plain": [
              "Downloading (…)okenizer_config.json:   0%|          | 0.00/1.02k [00:00<?, ?B/s]"
            ]
          },
          "metadata": {},
          "output_type": "display_data"
        },
        {
          "data": {
            "application/vnd.jupyter.widget-view+json": {
              "model_id": "b49e4a046a2040478c8126f0dfb516dc",
              "version_major": 2,
              "version_minor": 0
            },
            "text/plain": [
              "Downloading (…)lve/main/config.json:   0%|          | 0.00/760 [00:00<?, ?B/s]"
            ]
          },
          "metadata": {},
          "output_type": "display_data"
        },
        {
          "data": {
            "application/vnd.jupyter.widget-view+json": {
              "model_id": "590b9845e9924f96983f5e661547ef08",
              "version_major": 2,
              "version_minor": 0
            },
            "text/plain": [
              "Downloading pytorch_model.bin:   0%|          | 0.00/513M [00:00<?, ?B/s]"
            ]
          },
          "metadata": {},
          "output_type": "display_data"
        }
      ],
      "source": [
        "from transformers import BertTokenizer, BertModel\n",
        "from transformers import BigBirdTokenizer, BigBirdModel\n",
        "\n",
        "pretrained_weights = 'bert-base-uncased'\n",
        "tokenizer = BertTokenizer.from_pretrained(pretrained_weights)\n",
        "model = BertModel.from_pretrained(pretrained_weights)\n",
        "\n",
        "#There are also implementations available for the efficient transformer models\n",
        "bigbird_pretrained_weights = 'google/bigbird-roberta-base'\n",
        "bigbird_tokenizer = BigBirdTokenizer.from_pretrained(bigbird_pretrained_weights)\n",
        "bigbird_model = BigBirdModel.from_pretrained(bigbird_pretrained_weights)\n"
      ]
    },
    {
      "cell_type": "code",
      "execution_count": null,
      "metadata": {
        "colab": {
          "base_uri": "https://localhost:8080/"
        },
        "id": "x25SmvAy8oi8",
        "outputId": "2defa5c4-1fdb-4c47-a37b-9d3508243fab"
      },
      "outputs": [
        {
          "name": "stdout",
          "output_type": "stream",
          "text": [
            "BERT is trained for sequences up to 512 tokens\n",
            "BigBird is trained for sequences up to 4096 tokens\n"
          ]
        }
      ],
      "source": [
        "print(f\"BERT is trained for sequences up to {model.config.max_position_embeddings} tokens\")\n",
        "print(f\"BigBird is trained for sequences up to {bigbird_model.config.max_position_embeddings} tokens\")"
      ]
    },
    {
      "cell_type": "code",
      "execution_count": null,
      "metadata": {
        "colab": {
          "base_uri": "https://localhost:8080/"
        },
        "id": "TgbczcoJWHGf",
        "outputId": "b3e1da30-646e-42c4-ca6f-87356cff9a56"
      },
      "outputs": [
        {
          "name": "stdout",
          "output_type": "stream",
          "text": [
            "The text is tokenized into: ['a', 'sample', 'input', 'text', '.']\n",
            "the CLS and SEP tokens are added at the start and at the end of the sentence\n",
            "Each token is assigned an input id: tensor([[ 101, 1037, 7099, 7953, 3793, 1012,  102]])\n",
            "\n",
            "When no heads are used, the output is split in two parts: \n",
            "- The ouput relative the  special CLS token (which is usually used for classification)\n",
            "- One embedding for each token in the sentence in input which represents a latent contextualized representation\n",
            "\n",
            "Pooled CLS token output: tensor([[-0.8837, -0.3806, -0.8929,  ..., -0.8468, -0.7010,  0.8810]],\n",
            "       grad_fn=<TanhBackward0>), shape: torch.Size([1, 768])\n",
            "Contextualized embeddings: tensor([[[-0.7700, -0.1339, -0.6115,  ..., -0.3188,  0.1008,  0.6080],\n",
            "         [-0.3071, -0.4836, -0.3850,  ..., -0.3985,  0.5804,  0.5132],\n",
            "         [-0.0351, -0.4324,  0.0530,  ..., -0.5289, -0.0845, -0.2632],\n",
            "         ...,\n",
            "         [-0.1285, -0.0382,  0.3915,  ..., -0.4591, -0.0536,  0.2246],\n",
            "         [-1.1617, -1.0774, -0.2419,  ...,  0.6520,  0.4441, -0.3359],\n",
            "         [ 0.8983,  0.0095, -0.4727,  ...,  0.4925, -0.5942, -0.1789]]],\n",
            "       grad_fn=<NativeLayerNormBackward0>), shape: torch.Size([1, 7, 768])\n"
          ]
        }
      ],
      "source": [
        "# input text\n",
        "text = \"A sample input text.\"\n",
        "\n",
        "print(f\"The text is tokenized into: {tokenizer.tokenize(text)}\")\n",
        "\n",
        "# split text into tokens using a tokenizer\n",
        "encoded_input = tokenizer(text, return_tensors='pt')\n",
        "print(\"the CLS and SEP tokens are added at the start and at the end of the sentence\")\n",
        "print(f\"Each token is assigned an input id: {encoded_input['input_ids']}\")\n",
        "\n",
        "output = model(**encoded_input)\n",
        "\n",
        "print(\"\"\"\n",
        "When no heads are used, the output is split in two parts:\n",
        "- The ouput relative the  special CLS token (which is usually used for classification)\n",
        "- One embedding for each token in the sentence in input which represents a latent contextualized representation\n",
        "\"\"\")\n",
        "\n",
        "cls = output['pooler_output']\n",
        "hidden_state = output['last_hidden_state']\n",
        "print(f\"Pooled CLS token output: {cls}, shape: {cls.shape}\")\n",
        "print(f\"Contextualized embeddings: {hidden_state}, shape: {hidden_state.shape}\")"
      ]
    },
    {
      "cell_type": "markdown",
      "metadata": {
        "id": "60bEcp5YfM9p"
      },
      "source": [
        "## Test BERT natural language processing power\n",
        "We can use the `pipeline` utility to test BERT performance in various NLP tasks\n"
      ]
    },
    {
      "cell_type": "markdown",
      "metadata": {
        "id": "xql7H_nIkBeo"
      },
      "source": [
        "**Masked Language Modeling**"
      ]
    },
    {
      "cell_type": "code",
      "execution_count": null,
      "metadata": {
        "colab": {
          "base_uri": "https://localhost:8080/",
          "height": 492
        },
        "id": "tvHz69PxZGMP",
        "outputId": "147c0a74-d153-44f9-c817-afa0ee30b453"
      },
      "outputs": [
        {
          "name": "stderr",
          "output_type": "stream",
          "text": [
            "No model was supplied, defaulted to distilroberta-base and revision ec58a5b (https://huggingface.co/distilroberta-base).\n",
            "Using a pipeline without specifying a model name and revision in production is not recommended.\n"
          ]
        },
        {
          "data": {
            "application/vnd.jupyter.widget-view+json": {
              "model_id": "f408eb1b0ef64384b76127eeb1369cdc",
              "version_major": 2,
              "version_minor": 0
            },
            "text/plain": [
              "Downloading (…)lve/main/config.json:   0%|          | 0.00/480 [00:00<?, ?B/s]"
            ]
          },
          "metadata": {},
          "output_type": "display_data"
        },
        {
          "data": {
            "application/vnd.jupyter.widget-view+json": {
              "model_id": "c2cb17238d4d4e84b0fa8b0c29a666d4",
              "version_major": 2,
              "version_minor": 0
            },
            "text/plain": [
              "Downloading model.safetensors:   0%|          | 0.00/331M [00:00<?, ?B/s]"
            ]
          },
          "metadata": {},
          "output_type": "display_data"
        },
        {
          "name": "stderr",
          "output_type": "stream",
          "text": [
            "Some weights of the model checkpoint at distilroberta-base were not used when initializing RobertaForMaskedLM: ['roberta.pooler.dense.weight', 'roberta.pooler.dense.bias']\n",
            "- This IS expected if you are initializing RobertaForMaskedLM from the checkpoint of a model trained on another task or with another architecture (e.g. initializing a BertForSequenceClassification model from a BertForPreTraining model).\n",
            "- This IS NOT expected if you are initializing RobertaForMaskedLM from the checkpoint of a model that you expect to be exactly identical (initializing a BertForSequenceClassification model from a BertForSequenceClassification model).\n"
          ]
        },
        {
          "data": {
            "application/vnd.jupyter.widget-view+json": {
              "model_id": "24d7eb72cdda40d59f040eba01542671",
              "version_major": 2,
              "version_minor": 0
            },
            "text/plain": [
              "Downloading (…)olve/main/vocab.json:   0%|          | 0.00/899k [00:00<?, ?B/s]"
            ]
          },
          "metadata": {},
          "output_type": "display_data"
        },
        {
          "data": {
            "application/vnd.jupyter.widget-view+json": {
              "model_id": "1a014e97539449e89638f3807e0dc9bb",
              "version_major": 2,
              "version_minor": 0
            },
            "text/plain": [
              "Downloading (…)olve/main/merges.txt:   0%|          | 0.00/456k [00:00<?, ?B/s]"
            ]
          },
          "metadata": {},
          "output_type": "display_data"
        },
        {
          "data": {
            "application/vnd.jupyter.widget-view+json": {
              "model_id": "46f2d43003cb4c22bca953d443a0e0b0",
              "version_major": 2,
              "version_minor": 0
            },
            "text/plain": [
              "Downloading (…)/main/tokenizer.json:   0%|          | 0.00/1.36M [00:00<?, ?B/s]"
            ]
          },
          "metadata": {},
          "output_type": "display_data"
        },
        {
          "name": "stdout",
          "output_type": "stream",
          "text": [
            "[{'score': 0.1500779539346695,\n",
            "  'sequence': 'The capital of France is Paris',\n",
            "  'token': 2201,\n",
            "  'token_str': ' Paris'},\n",
            " {'score': 0.028450647369027138,\n",
            "  'sequence': 'The capital of France is Barcelona',\n",
            "  'token': 4612,\n",
            "  'token_str': ' Barcelona'},\n",
            " {'score': 0.021013572812080383,\n",
            "  'sequence': 'The capital of France is pictured',\n",
            "  'token': 7092,\n",
            "  'token_str': ' pictured'}]\n"
          ]
        }
      ],
      "source": [
        "from transformers import pipeline\n",
        "\n",
        "masked_language_modeling = pipeline(\"fill-mask\", top_k=3)\n",
        "#masked_phrase = f\"I broke my leg, i had to go to the <mask>\"\n",
        "masked_phrase = f\"The capital of France is <mask>\"\n",
        "\n",
        "pprint(masked_language_modeling(masked_phrase))"
      ]
    },
    {
      "cell_type": "markdown",
      "metadata": {
        "id": "42tyZvqqkYPH"
      },
      "source": [
        "**Sentiment Analysis**"
      ]
    },
    {
      "cell_type": "code",
      "execution_count": null,
      "metadata": {
        "colab": {
          "base_uri": "https://localhost:8080/",
          "height": 252
        },
        "id": "XlTIahHukX-n",
        "outputId": "003a3547-2a25-4fb7-e9d0-c605e838f75b"
      },
      "outputs": [
        {
          "name": "stderr",
          "output_type": "stream",
          "text": [
            "No model was supplied, defaulted to distilbert-base-uncased-finetuned-sst-2-english and revision af0f99b (https://huggingface.co/distilbert-base-uncased-finetuned-sst-2-english).\n",
            "Using a pipeline without specifying a model name and revision in production is not recommended.\n"
          ]
        },
        {
          "data": {
            "application/vnd.jupyter.widget-view+json": {
              "model_id": "a9abf2051800445fb652bc395611daae",
              "version_major": 2,
              "version_minor": 0
            },
            "text/plain": [
              "Downloading (…)lve/main/config.json:   0%|          | 0.00/629 [00:00<?, ?B/s]"
            ]
          },
          "metadata": {},
          "output_type": "display_data"
        },
        {
          "data": {
            "application/vnd.jupyter.widget-view+json": {
              "model_id": "3cfeebbff13847d4bc11857f6824c2be",
              "version_major": 2,
              "version_minor": 0
            },
            "text/plain": [
              "Downloading model.safetensors:   0%|          | 0.00/268M [00:00<?, ?B/s]"
            ]
          },
          "metadata": {},
          "output_type": "display_data"
        },
        {
          "data": {
            "application/vnd.jupyter.widget-view+json": {
              "model_id": "c1ce1205d3c149c2abeba83733ba7101",
              "version_major": 2,
              "version_minor": 0
            },
            "text/plain": [
              "Downloading (…)okenizer_config.json:   0%|          | 0.00/48.0 [00:00<?, ?B/s]"
            ]
          },
          "metadata": {},
          "output_type": "display_data"
        },
        {
          "data": {
            "application/vnd.jupyter.widget-view+json": {
              "model_id": "97d272a7215d4a5b8e33f24717e1d3a8",
              "version_major": 2,
              "version_minor": 0
            },
            "text/plain": [
              "Downloading (…)solve/main/vocab.txt:   0%|          | 0.00/232k [00:00<?, ?B/s]"
            ]
          },
          "metadata": {},
          "output_type": "display_data"
        },
        {
          "name": "stderr",
          "output_type": "stream",
          "text": [
            "Xformers is not installed correctly. If you want to use memory_efficient_attention to accelerate training use the following command to install Xformers\n",
            "pip install xformers.\n"
          ]
        },
        {
          "data": {
            "text/plain": [
              "[{'label': 'NEGATIVE', 'score': 0.9997864365577698}]"
            ]
          },
          "execution_count": 6,
          "metadata": {},
          "output_type": "execute_result"
        }
      ],
      "source": [
        "# Allocate a pipeline for sentiment-analysis\n",
        "classifier = pipeline('sentiment-analysis')\n",
        "classifier(\"The film was very horrible\") # the film was horrible"
      ]
    },
    {
      "cell_type": "markdown",
      "metadata": {
        "id": "z9-8nUSa-Fx8"
      },
      "source": [
        "**Question Answering**"
      ]
    },
    {
      "cell_type": "code",
      "execution_count": null,
      "metadata": {
        "id": "eI4veBwa-IOb"
      },
      "outputs": [],
      "source": [
        "question_answering = pipeline(\"question-answering\")\n",
        "context = \"\"\"\n",
        "Machine learning (ML) is the study of computer algorithms that improve automatically through experience.\n",
        "It is seen as a part of artificial intelligence. Machine learning algorithms build a model based on sample data,\n",
        "known as \"training data\", in order to make predictions or decisions without being explicitly programmed to do so.\n",
        "Machine learning algorithms are used in a wide variety of applications, such as email filtering and computer vision,\n",
        "where it is difficult or unfeasible to develop conventional algorithms to perform the needed tasks.\n",
        "\"\"\"\n",
        "\n",
        "question = \"What are the applications of machine learning?\"\n",
        "#question = \"What are machine learning models based on?\"\n",
        "\n",
        "result = question_answering(question=question, context=context)\n",
        "print(\"Answer:\", result['answer'])\n",
        "print(\"Score:\", result['score'])"
      ]
    },
    {
      "cell_type": "markdown",
      "metadata": {
        "id": "q9weWaV_mluQ"
      },
      "source": [
        "# Metric Learning"
      ]
    },
    {
      "cell_type": "markdown",
      "metadata": {
        "id": "a9ceHMMQsjqO"
      },
      "source": [
        "## Utility Code"
      ]
    },
    {
      "cell_type": "code",
      "execution_count": null,
      "metadata": {
        "id": "McZpytjYsmgZ"
      },
      "outputs": [],
      "source": [
        "#@title\n",
        "import torch\n",
        "import torch.nn as nn\n",
        "import torch.nn.functional as F\n",
        "import torch.optim as optim\n",
        "\n",
        "### MNIST code originally from https://github.com/pytorch/examples/blob/master/mnist/main.py ###\n",
        "class CNN(nn.Module):\n",
        "    def __init__(self, embedding_dim = 128):\n",
        "        super(CNN, self).__init__()\n",
        "        self.conv1 = nn.Conv2d(1, 32, 3, 1)\n",
        "        self.fc1 = nn.Linear(21632, embedding_dim)\n",
        "\n",
        "    def forward(self, x):\n",
        "        x = self.conv1(x)\n",
        "        x = F.relu(x)\n",
        "        # x = F.max_pool2d(x, 2)\n",
        "        x = torch.flatten(x, 1)\n",
        "        x = self.fc1(x)\n",
        "        return x\n",
        "\n",
        "\n",
        "### MNIST code originally from https://github.com/pytorch/examples/blob/master/mnist/main.py ###\n",
        "def train(model, loss_func, mining_func, device, train_loader, optimizer, epoch):\n",
        "    model.train()\n",
        "    for batch_idx, (data, labels) in enumerate(train_loader):\n",
        "        data, labels = data.to(device), labels.to(device)\n",
        "        optimizer.zero_grad()\n",
        "        embeddings = model(data)\n",
        "        indices_tuple = mining_func(embeddings, labels)\n",
        "        loss = loss_func(embeddings, labels, indices_tuple)\n",
        "        loss.backward()\n",
        "        optimizer.step()\n",
        "        if batch_idx % 20 == 0:\n",
        "            print(\n",
        "                \"Epoch {} Iteration {}:  Number of mined triplets = {}\".format(\n",
        "                    epoch, batch_idx, mining_func.num_triplets\n",
        "                )\n",
        "            )\n",
        "\n",
        "\n",
        "### convenient function from pytorch-metric-learning ###\n",
        "def get_all_embeddings(dataset, model):\n",
        "    tester = testers.BaseTester()\n",
        "    return tester.get_all_embeddings(dataset, model)\n",
        "\n",
        "\n",
        "### compute accuracy using AccuracyCalculator from pytorch-metric-learning ###\n",
        "def test(train_set, test_set, model, accuracy_calculator):\n",
        "    train_embeddings, train_labels = get_all_embeddings(train_set, model)\n",
        "    test_embeddings, test_labels = get_all_embeddings(test_set, model)\n",
        "    train_labels = train_labels.squeeze(1)\n",
        "    test_labels = test_labels.squeeze(1)\n",
        "    #print(len(test_labels), len(test_embeddings))\n",
        "    #print(test_labels[0], test_embeddings[0])\n",
        "    #print(len(test_labels[0]), len(test_embeddings[0]))\n",
        "    #print(len(train_labels[0]), len(train_embeddings[0]))\n",
        "    print(\"Computing accuracy\")\n",
        "    accuracies = accuracy_calculator.get_accuracy(\n",
        "        test_embeddings, train_embeddings, test_labels, train_labels, False\n",
        "    )\n",
        "    print(\"Test set accuracy (Precision@1) = {}\".format(accuracies[\"precision_at_1\"]))\n",
        "\n",
        "def visualize_embeddings(embeddings_reduced, labels):\n",
        "  label_set = np.unique(labels)\n",
        "  num_classes = len(label_set)\n",
        "  fig = plt.figure(figsize=(20, 15))\n",
        "  plt.gca().set_prop_cycle(\n",
        "      cycler(\n",
        "          \"color\", [plt.cm.nipy_spectral(i) for i in np.linspace(0, 0.9, num_classes)]\n",
        "      )\n",
        "  )\n",
        "  for i in range(num_classes):\n",
        "      idx = (labels == label_set[i])\n",
        "      plt.plot(embeddings_reduced[idx, 0], embeddings_reduced[idx, 1], \".\", markersize=1,label=i)\n",
        "  plt.legend(loc='best',markerscale=10)\n",
        "  plt.show()"
      ]
    },
    {
      "cell_type": "markdown",
      "metadata": {
        "id": "VVmLJ5kVsqBQ"
      },
      "source": [
        "## Metric Learning on MNIST"
      ]
    },
    {
      "cell_type": "markdown",
      "metadata": {
        "id": "HFiyHDHRmoX4"
      },
      "source": [
        "We will try to train a CNN model on the MNIST dataset to **recognize handwritten digits using Triplet Loss**.\n",
        "\n",
        "<img src=\"https://miro.medium.com/max/1400/1*E6UUEmxKp5ZTRgCRNbIP-g.png\" alt=\"metric learning mnist\" width=\"300\"/>\n",
        "\n",
        "\n",
        "We will use the **pytorch-metric-learning** library (`pip install pytorch-metric-learning`)\n",
        "\n",
        "\n"
      ]
    },
    {
      "cell_type": "code",
      "execution_count": null,
      "metadata": {
        "colab": {
          "base_uri": "https://localhost:8080/"
        },
        "id": "hTZqW5cWmuA4",
        "outputId": "064b6668-f221-42af-89e4-cb7eaea7c324"
      },
      "outputs": [
        {
          "name": "stdout",
          "output_type": "stream",
          "text": [
            "Downloading http://yann.lecun.com/exdb/mnist/train-images-idx3-ubyte.gz\n",
            "Downloading http://yann.lecun.com/exdb/mnist/train-images-idx3-ubyte.gz to ./MNIST/raw/train-images-idx3-ubyte.gz\n"
          ]
        },
        {
          "name": "stderr",
          "output_type": "stream",
          "text": [
            "100%|██████████| 9912422/9912422 [00:00<00:00, 225931622.52it/s]"
          ]
        },
        {
          "name": "stdout",
          "output_type": "stream",
          "text": [
            "Extracting ./MNIST/raw/train-images-idx3-ubyte.gz to ./MNIST/raw\n"
          ]
        },
        {
          "name": "stderr",
          "output_type": "stream",
          "text": [
            "\n"
          ]
        },
        {
          "name": "stdout",
          "output_type": "stream",
          "text": [
            "\n",
            "Downloading http://yann.lecun.com/exdb/mnist/train-labels-idx1-ubyte.gz\n",
            "Downloading http://yann.lecun.com/exdb/mnist/train-labels-idx1-ubyte.gz to ./MNIST/raw/train-labels-idx1-ubyte.gz\n"
          ]
        },
        {
          "name": "stderr",
          "output_type": "stream",
          "text": [
            "100%|██████████| 28881/28881 [00:00<00:00, 30957243.50it/s]\n"
          ]
        },
        {
          "name": "stdout",
          "output_type": "stream",
          "text": [
            "Extracting ./MNIST/raw/train-labels-idx1-ubyte.gz to ./MNIST/raw\n",
            "\n",
            "Downloading http://yann.lecun.com/exdb/mnist/t10k-images-idx3-ubyte.gz\n",
            "Downloading http://yann.lecun.com/exdb/mnist/t10k-images-idx3-ubyte.gz to ./MNIST/raw/t10k-images-idx3-ubyte.gz\n"
          ]
        },
        {
          "name": "stderr",
          "output_type": "stream",
          "text": [
            "100%|██████████| 1648877/1648877 [00:00<00:00, 91014139.22it/s]\n"
          ]
        },
        {
          "name": "stdout",
          "output_type": "stream",
          "text": [
            "Extracting ./MNIST/raw/t10k-images-idx3-ubyte.gz to ./MNIST/raw\n",
            "\n",
            "Downloading http://yann.lecun.com/exdb/mnist/t10k-labels-idx1-ubyte.gz\n",
            "Downloading http://yann.lecun.com/exdb/mnist/t10k-labels-idx1-ubyte.gz to ./MNIST/raw/t10k-labels-idx1-ubyte.gz\n"
          ]
        },
        {
          "name": "stderr",
          "output_type": "stream",
          "text": [
            "100%|██████████| 4542/4542 [00:00<00:00, 3131250.62it/s]\n"
          ]
        },
        {
          "name": "stdout",
          "output_type": "stream",
          "text": [
            "Extracting ./MNIST/raw/t10k-labels-idx1-ubyte.gz to ./MNIST/raw\n",
            "\n"
          ]
        }
      ],
      "source": [
        "from torchvision import datasets, transforms\n",
        "\n",
        "from pytorch_metric_learning import distances, losses, miners, reducers, testers\n",
        "from pytorch_metric_learning.utils.accuracy_calculator import AccuracyCalculator\n",
        "\n",
        "\n",
        "device = torch.device(\"cuda\")\n",
        "\n",
        "mnist_transform = transforms.Compose(\n",
        "    [transforms.ToTensor(), transforms.RandomErasing(p=0.35)]\n",
        ")\n",
        "\n",
        "batch_size = 256\n",
        "\n",
        "# load mnist train and test set\n",
        "train_dataset = datasets.MNIST(\".\", train=True, download=True, transform=mnist_transform)\n",
        "test_dataset = datasets.MNIST(\".\", train=False, transform=mnist_transform)\n",
        "\n",
        "# Keep only 30% of the test dataset to speed up visualization and evaluation\n",
        "sample_size = int(0.3*len(test_dataset))\n",
        "random_indices = random.sample(range(len(test_dataset)), sample_size)\n",
        "test_dataset = torch.utils.data.Subset(test_dataset, random_indices)\n",
        "\n",
        "train_loader = torch.utils.data.DataLoader(train_dataset, batch_size=256, shuffle=True)\n",
        "test_loader = torch.utils.data.DataLoader(test_dataset, batch_size=256)\n",
        "\n",
        "# initialize CNN model\n",
        "embedding_dim = 32\n",
        "model = CNN(embedding_dim).to(device)\n"
      ]
    },
    {
      "cell_type": "code",
      "execution_count": null,
      "metadata": {
        "colab": {
          "base_uri": "https://localhost:8080/"
        },
        "id": "oIGx8koo6eU1",
        "outputId": "0b487bb2-4345-4915-b91a-d842cf446ce8"
      },
      "outputs": [
        {
          "data": {
            "text/plain": [
              "(tensor([[[0., 0., 0.,  ..., 0., 0., 0.],\n",
              "          [0., 0., 0.,  ..., 0., 0., 0.],\n",
              "          [0., 0., 0.,  ..., 0., 0., 0.],\n",
              "          ...,\n",
              "          [0., 0., 0.,  ..., 0., 0., 0.],\n",
              "          [0., 0., 0.,  ..., 0., 0., 0.],\n",
              "          [0., 0., 0.,  ..., 0., 0., 0.]]]),\n",
              " 5)"
            ]
          },
          "execution_count": 5,
          "metadata": {},
          "output_type": "execute_result"
        }
      ],
      "source": [
        "train_dataset[0]\n"
      ]
    },
    {
      "cell_type": "markdown",
      "metadata": {
        "id": "JqOczINFvD1K"
      },
      "source": [
        "We can try to visualize the latent space before training the model. We use a dimensionality reduction algorithm to reduce embeddings from $\\mathbb{R}^{32}$ to $\\mathbb{R}^{2}$. We will use **UMAP** (t-SNE could also be used)."
      ]
    },
    {
      "cell_type": "code",
      "execution_count": null,
      "metadata": {
        "colab": {
          "base_uri": "https://localhost:8080/"
        },
        "id": "niT-xUp1vL1U",
        "outputId": "3bd605ad-80bb-4003-f76c-6fa595f2b4f9"
      },
      "outputs": [
        {
          "name": "stderr",
          "output_type": "stream",
          "text": [
            "100%|██████████| 94/94 [00:01<00:00, 54.14it/s] \n"
          ]
        }
      ],
      "source": [
        "embeddings, labels = get_all_embeddings(test_dataset, model) # get MNIST test embeddings\n",
        "umap_visualizer = umap.UMAP()\n",
        "\n",
        "# reduce dimensionality to 2-D using UMAP\n",
        "embeddings_reduced = umap_visualizer.fit_transform(embeddings.cpu().numpy())\n",
        "labels = labels.cpu().numpy().flatten()"
      ]
    },
    {
      "cell_type": "code",
      "execution_count": null,
      "metadata": {
        "colab": {
          "base_uri": "https://localhost:8080/",
          "height": 1000
        },
        "id": "DGwbshwvvP8J",
        "outputId": "e410901b-ad7d-40e0-e2f1-22f79b3cfee7"
      },
      "outputs": [
        {
          "data": {
            "image/png": "[encoded data removed]",
            "text/plain": [
              "<Figure size 2000x1500 with 1 Axes>"
            ]
          },
          "metadata": {},
          "output_type": "display_data"
        }
      ],
      "source": [
        "visualize_embeddings(embeddings_reduced, labels)"
      ]
    },
    {
      "cell_type": "code",
      "execution_count": null,
      "metadata": {
        "colab": {
          "base_uri": "https://localhost:8080/",
          "height": 606
        },
        "id": "UNxrkyhDvDkZ",
        "outputId": "3b4e6fa3-a1c9-4037-d403-d85d4491ca91"
      },
      "outputs": [
        {
          "name": "stdout",
          "output_type": "stream",
          "text": [
            "Epoch 1 Iteration 0:  Number of mined triplets = 410345\n",
            "Epoch 1 Iteration 20:  Number of mined triplets = 113486\n",
            "Epoch 1 Iteration 40:  Number of mined triplets = 53220\n",
            "Epoch 1 Iteration 60:  Number of mined triplets = 44080\n",
            "Epoch 1 Iteration 80:  Number of mined triplets = 37708\n",
            "Epoch 1 Iteration 100:  Number of mined triplets = 36163\n",
            "Epoch 1 Iteration 120:  Number of mined triplets = 29276\n",
            "Epoch 1 Iteration 140:  Number of mined triplets = 34738\n",
            "Epoch 1 Iteration 160:  Number of mined triplets = 31360\n",
            "Epoch 1 Iteration 180:  Number of mined triplets = 26173\n",
            "Epoch 1 Iteration 200:  Number of mined triplets = 26396\n",
            "Epoch 1 Iteration 220:  Number of mined triplets = 25107\n"
          ]
        },
        {
          "name": "stderr",
          "output_type": "stream",
          "text": [
            "100%|██████████| 1875/1875 [00:16<00:00, 112.88it/s]\n",
            "100%|██████████| 94/94 [00:01<00:00, 68.93it/s]\n"
          ]
        },
        {
          "name": "stdout",
          "output_type": "stream",
          "text": [
            "Computing accuracy\n"
          ]
        },
        {
          "ename": "ValueError",
          "evalue": "ignored",
          "output_type": "error",
          "traceback": [
            "\u001b[0;31m---------------------------------------------------------------------------\u001b[0m",
            "\u001b[0;31mValueError\u001b[0m                                Traceback (most recent call last)",
            "\u001b[0;32m<ipython-input-8-b6fb50fd1a0a>\u001b[0m in \u001b[0;36m<cell line: 11>\u001b[0;34m()\u001b[0m\n\u001b[1;32m     11\u001b[0m \u001b[0;32mfor\u001b[0m \u001b[0mepoch\u001b[0m \u001b[0;32min\u001b[0m \u001b[0mrange\u001b[0m\u001b[0;34m(\u001b[0m\u001b[0;36m1\u001b[0m\u001b[0;34m,\u001b[0m \u001b[0mnum_epochs\u001b[0m \u001b[0;34m+\u001b[0m \u001b[0;36m1\u001b[0m\u001b[0;34m)\u001b[0m\u001b[0;34m:\u001b[0m\u001b[0;34m\u001b[0m\u001b[0;34m\u001b[0m\u001b[0m\n\u001b[1;32m     12\u001b[0m     \u001b[0mtrain\u001b[0m\u001b[0;34m(\u001b[0m\u001b[0mmodel\u001b[0m\u001b[0;34m,\u001b[0m \u001b[0mloss_func\u001b[0m\u001b[0;34m,\u001b[0m \u001b[0mmining_func\u001b[0m\u001b[0;34m,\u001b[0m \u001b[0mdevice\u001b[0m\u001b[0;34m,\u001b[0m \u001b[0mtrain_loader\u001b[0m\u001b[0;34m,\u001b[0m \u001b[0moptimizer\u001b[0m\u001b[0;34m,\u001b[0m \u001b[0mepoch\u001b[0m\u001b[0;34m)\u001b[0m\u001b[0;34m\u001b[0m\u001b[0;34m\u001b[0m\u001b[0m\n\u001b[0;32m---> 13\u001b[0;31m     \u001b[0mtest\u001b[0m\u001b[0;34m(\u001b[0m\u001b[0mtrain_dataset\u001b[0m\u001b[0;34m,\u001b[0m \u001b[0mtest_dataset\u001b[0m\u001b[0;34m,\u001b[0m \u001b[0mmodel\u001b[0m\u001b[0;34m,\u001b[0m \u001b[0maccuracy_calculator\u001b[0m\u001b[0;34m)\u001b[0m\u001b[0;34m\u001b[0m\u001b[0;34m\u001b[0m\u001b[0m\n\u001b[0m",
            "\u001b[0;32m<ipython-input-3-a586e013fbc1>\u001b[0m in \u001b[0;36mtest\u001b[0;34m(train_set, test_set, model, accuracy_calculator)\u001b[0m\n\u001b[1;32m     57\u001b[0m     \u001b[0;31m#print(len(train_labels[0]), len(train_embeddings[0]))\u001b[0m\u001b[0;34m\u001b[0m\u001b[0;34m\u001b[0m\u001b[0m\n\u001b[1;32m     58\u001b[0m     \u001b[0mprint\u001b[0m\u001b[0;34m(\u001b[0m\u001b[0;34m\"Computing accuracy\"\u001b[0m\u001b[0;34m)\u001b[0m\u001b[0;34m\u001b[0m\u001b[0;34m\u001b[0m\u001b[0m\n\u001b[0;32m---> 59\u001b[0;31m     accuracies = accuracy_calculator.get_accuracy(\n\u001b[0m\u001b[1;32m     60\u001b[0m         \u001b[0mtest_embeddings\u001b[0m\u001b[0;34m,\u001b[0m \u001b[0mtrain_embeddings\u001b[0m\u001b[0;34m,\u001b[0m \u001b[0mtest_labels\u001b[0m\u001b[0;34m,\u001b[0m \u001b[0mtrain_labels\u001b[0m\u001b[0;34m,\u001b[0m \u001b[0;32mFalse\u001b[0m\u001b[0;34m\u001b[0m\u001b[0;34m\u001b[0m\u001b[0m\n\u001b[1;32m     61\u001b[0m     )\n",
            "\u001b[0;32m/usr/local/lib/python3.10/dist-packages/pytorch_metric_learning/utils/accuracy_calculator.py\u001b[0m in \u001b[0;36mget_accuracy\u001b[0;34m(self, query, query_labels, reference, reference_labels, ref_includes_query, include, exclude)\u001b[0m\n\u001b[1;32m    433\u001b[0m \u001b[0;34m\u001b[0m\u001b[0m\n\u001b[1;32m    434\u001b[0m         \u001b[0;32mif\u001b[0m \u001b[0mlen\u001b[0m\u001b[0;34m(\u001b[0m\u001b[0mquery\u001b[0m\u001b[0;34m)\u001b[0m \u001b[0;34m!=\u001b[0m \u001b[0mlen\u001b[0m\u001b[0;34m(\u001b[0m\u001b[0mquery_labels\u001b[0m\u001b[0;34m)\u001b[0m \u001b[0;32mor\u001b[0m \u001b[0mlen\u001b[0m\u001b[0;34m(\u001b[0m\u001b[0mreference\u001b[0m\u001b[0;34m)\u001b[0m \u001b[0;34m!=\u001b[0m \u001b[0mlen\u001b[0m\u001b[0;34m(\u001b[0m\u001b[0mreference_labels\u001b[0m\u001b[0;34m)\u001b[0m\u001b[0;34m:\u001b[0m\u001b[0;34m\u001b[0m\u001b[0;34m\u001b[0m\u001b[0m\n\u001b[0;32m--> 435\u001b[0;31m             \u001b[0;32mraise\u001b[0m \u001b[0mValueError\u001b[0m\u001b[0;34m(\u001b[0m\u001b[0;34m\"embeddings and labels must have the same length\"\u001b[0m\u001b[0;34m)\u001b[0m\u001b[0;34m\u001b[0m\u001b[0;34m\u001b[0m\u001b[0m\n\u001b[0m\u001b[1;32m    436\u001b[0m \u001b[0;34m\u001b[0m\u001b[0m\n\u001b[1;32m    437\u001b[0m         if ref_includes_query and not (\n",
            "\u001b[0;31mValueError\u001b[0m: embeddings and labels must have the same length"
          ]
        }
      ],
      "source": [
        "### metric-learning stuff ###\n",
        "optimizer = optim.Adam(model.parameters(), lr=0.01)\n",
        "\n",
        "margin = 0.1\n",
        "loss_func = losses.TripletMarginLoss(margin=margin) # triplet loss with margin 0.1\n",
        "mining_func = miners.TripletMarginMiner(margin=margin, type_of_triplets=\"semihard\") # use semihard mining\n",
        "accuracy_calculator = AccuracyCalculator(include=(\"precision_at_1\",), k=1)\n",
        "\n",
        "num_epochs = 2 # train for 1 epoch\n",
        "\n",
        "for epoch in range(1, num_epochs + 1):\n",
        "    train(model, loss_func, mining_func, device, train_loader, optimizer, epoch)\n",
        "    test(train_dataset, test_dataset, model, accuracy_calculator)"
      ]
    },
    {
      "cell_type": "markdown",
      "metadata": {
        "id": "ORUdWDVotcWB"
      },
      "source": [
        "We can now visualize the new latent space"
      ]
    },
    {
      "cell_type": "code",
      "execution_count": null,
      "metadata": {
        "colab": {
          "base_uri": "https://localhost:8080/"
        },
        "id": "FIbwgO0rtcFh",
        "outputId": "a6bb745b-26da-4fb3-b507-4d17f297da89"
      },
      "outputs": [
        {
          "name": "stderr",
          "output_type": "stream",
          "text": [
            "100%|██████████| 94/94 [00:01<00:00, 63.60it/s]\n"
          ]
        }
      ],
      "source": [
        "embeddings, labels = get_all_embeddings(test_dataset, model)\n",
        "\n",
        "# reduce dimensionality from 128 to 2-D\n",
        "umap_visualizer = umap.UMAP()\n",
        "embeddings_reduced = umap_visualizer.fit_transform(embeddings.cpu().numpy())\n",
        "labels = labels.cpu().numpy().flatten()"
      ]
    },
    {
      "cell_type": "code",
      "execution_count": null,
      "metadata": {
        "colab": {
          "base_uri": "https://localhost:8080/",
          "height": 835
        },
        "id": "wCN5bbXCuwpT",
        "outputId": "a81381e9-3027-4aa8-b8d9-e777f153371f"
      },
      "outputs": [
        {
          "data": {
            "image/png": "[encoded data removed]",
            "text/plain": [
              "<Figure size 2000x1500 with 1 Axes>"
            ]
          },
          "metadata": {},
          "output_type": "display_data"
        }
      ],
      "source": [
        "visualize_embeddings(embeddings_reduced, labels)"
      ]
    },
    {
      "cell_type": "markdown",
      "metadata": {
        "id": "aBmHagv7XX0K"
      },
      "source": [
        "# Efficient Retrieval with Faiss\n"
      ]
    },
    {
      "cell_type": "markdown",
      "metadata": {
        "id": "_JCkUYF31EKd"
      },
      "source": [
        "Once you have a trained model that can generate embeddings (of text or images), it is important to find a way to use this embeddings efficiently, expecially in retrieval scenarios.\n",
        "\n",
        "In python efficient algorithms to work with embeddings are available through the **faiss** library."
      ]
    },
    {
      "cell_type": "markdown",
      "metadata": {
        "id": "6k3hLX1vXiTf"
      },
      "source": [
        "We can first run some experiments on a sample database with random embeddings. We will generate a database of $N=5 \\times 10^5$ embeddings in $\\mathbb{R}^{256}$."
      ]
    },
    {
      "cell_type": "code",
      "execution_count": null,
      "metadata": {
        "colab": {
          "base_uri": "https://localhost:8080/"
        },
        "id": "zDQeC77JZNAZ",
        "outputId": "e2fd97f5-85f0-4727-a34a-acb2adb7bbbb"
      },
      "outputs": [
        {
          "name": "stdout",
          "output_type": "stream",
          "text": [
            "(500000, 256) [[0.54275054 0.98958653 0.5726918  ... 0.8935049  0.3447415  0.5080158 ]\n",
            " [0.40974745 0.8233153  0.5152597  ... 0.3923851  0.3436678  0.2831418 ]\n",
            " [0.43021446 0.46449995 0.64267683 ... 0.09126268 0.70479965 0.99695224]\n",
            " ...\n",
            " [0.67642814 0.94130194 0.3211897  ... 0.50251466 0.38617283 0.17483321]\n",
            " [0.10377585 0.63064414 0.97954255 ... 0.9134349  0.1167707  0.48847014]\n",
            " [0.16382554 0.1646817  0.7006143  ... 0.20451315 0.73240066 0.3925471 ]]\n"
          ]
        }
      ],
      "source": [
        "d = 256       # dimension\n",
        "N = 500000   # database size\n",
        "\n",
        "dataset_embeddings = np.random.random((N, d)).astype('float32')\n",
        "print(dataset_embeddings.shape, dataset_embeddings)"
      ]
    },
    {
      "cell_type": "markdown",
      "metadata": {
        "id": "5lYOHU_8Z7wq"
      },
      "source": [
        "Next we must generate some sample queries, which are also embeddings in $\\mathbb{R}^{256}$. We will use $Q=500$ queries"
      ]
    },
    {
      "cell_type": "code",
      "execution_count": null,
      "metadata": {
        "id": "ZVMgrC_uZ7d6"
      },
      "outputs": [],
      "source": [
        "Q = 500\n",
        "query_embeddings = np.random.random((Q, d)).astype('float32')"
      ]
    },
    {
      "cell_type": "markdown",
      "metadata": {
        "id": "uPF1CK3hDQXY"
      },
      "source": [
        "## Naive K-NN Search"
      ]
    },
    {
      "cell_type": "markdown",
      "metadata": {
        "id": "ERuv0YZPakxR"
      },
      "source": [
        "The performer retrieval in Faiss we must first create an `Index` object for our dataset. For our first example we are going to use the simplest version that just performs naive L2 distance search: `IndexFlatL2`."
      ]
    },
    {
      "cell_type": "code",
      "execution_count": null,
      "metadata": {
        "id": "Qd5cRv80YLkB"
      },
      "outputs": [],
      "source": [
        "l2_index = faiss.IndexFlatL2(d)  # each index must know the dimensionality of the embeddings\n",
        "print(l2_index.is_trained) # some indices require a training phase but this is not the case for FlatL2 index; this line should return true\n",
        "l2_index.add(dataset_embeddings) # add vectors to the index\n",
        "print(l2_index.ntotal)"
      ]
    },
    {
      "cell_type": "markdown",
      "metadata": {
        "id": "UFSsz1hdbvAT"
      },
      "source": [
        "You can use the `search` method must be used to run nearest neighbor retrieval search. You should also specify the number $k$ of results to retrieve.\n",
        "\n",
        "We will set $k=5$ so that we will have the top-5 results for each query.\n",
        "\n",
        "The `search` method returns two results: the distances matrix $D \\in \\mathbb{R}^{Q \\times k}$ and the indices matrix $I \\in \\mathbb{N}_{+}^{Q \\times k}$. The first one contains the distance between the queries and the top-$k$ results; the latter containes the indices of the retrieved embeddings in the dataset.\n",
        "\n",
        "\n",
        "\n",
        "\n"
      ]
    },
    {
      "cell_type": "code",
      "execution_count": null,
      "metadata": {
        "id": "NNEch0aGYVxl"
      },
      "outputs": [],
      "source": [
        "k = 5                                     # we want to find top-5 nearest neighbors\n",
        "L2_D, L2_I = l2_index.search(query_embeddings, k)  # actual search\n",
        "\n",
        "check_queries = 5\n",
        "print(f\"D shape: {L2_D.shape}, I shape: {L2_I.shape}\\n\")\n",
        "print(f\"Indices of the nearest neighbors of the first {check_queries} queries\\n{L2_I[:check_queries]}\\n\")\n",
        "\n",
        "print(f\"The distances between the first query and its nearest neighbors are {L2_D[0, :]}\\n\")"
      ]
    },
    {
      "cell_type": "markdown",
      "metadata": {
        "id": "CrPyXCCLd08J"
      },
      "source": [
        "To check that our index is working correctly, we can take the first 3 embeddings in the dataset and use them as queries. We expect that the index will correctly find the embedding itself as the top result, so we should have that:\n",
        "1. The first entries for each query in the $I$ matrix have indices $[0,1,2]$  \n",
        "2. The distance between the query and its top  result is $0$"
      ]
    },
    {
      "cell_type": "code",
      "execution_count": null,
      "metadata": {
        "id": "1kt50I2RdWAy"
      },
      "outputs": [],
      "source": [
        "n = 3\n",
        "D, I = l2_index.search(dataset_embeddings[:n], k)\n",
        "\n",
        "print(\"Sanity Check:\")\n",
        "print(I)\n",
        "assert np.equal(I[:,0], np.arange(n)).all()\n",
        "\n",
        "print(D)\n",
        "assert np.equal(D[:,0], np.zeros(n)).all()\n",
        "\n",
        "print(\"Check OK!\")"
      ]
    },
    {
      "cell_type": "markdown",
      "metadata": {
        "id": "9hfkft2zb-MR"
      },
      "source": [
        "We can measure the time required to perform the search"
      ]
    },
    {
      "cell_type": "code",
      "execution_count": null,
      "metadata": {
        "id": "RsMMnrDRb9Zi"
      },
      "outputs": [],
      "source": [
        "def avg_search_time(index: faiss.Index, queries:np.ndarray, k:int, num_iterations:int = 5):\n",
        "  start = time.time()\n",
        "  partial = start\n",
        "  for i in tqdm(range(num_iterations), position=0, leave=True): # run num_iterations searches and take the average\n",
        "    index.search(queries, k)\n",
        "    partial=time.time()\n",
        "\n",
        "  elapsed = time.time()-start\n",
        "  return elapsed/num_iterations\n",
        "\n",
        "\n",
        "l2_avg_time = avg_search_time(l2_index, query_embeddings, k, num_iterations=5)\n",
        "print(f\"Average time for Naive Search on CPU: {l2_avg_time}\")"
      ]
    },
    {
      "cell_type": "markdown",
      "metadata": {
        "id": "qRF-NIUzYv2p"
      },
      "source": [
        "## Inverted File Index (IVF)"
      ]
    },
    {
      "cell_type": "markdown",
      "metadata": {
        "id": "hagyw0rd8X-T"
      },
      "source": [
        "Faiss also provides approximate nearest neighbor search algorithms.\n",
        "\n",
        "The **Inverted File Index (IVF)** defines Voronoi cells in the d-dimensional space, and each database vector falls in one of the cells. At search time, only the database vectors $y$ contained in the cell the query $x$ falls in and a few neighboring ones (called `probes`) are compared against the query vector. The number of cells $k'$ is configurable\n",
        "\n",
        "The number of probes can be configured using the `nprobe` parameter. This is a way of adjusting the tradeoff between speed and accuracy of the result. Setting `nprobe` = $k'$ gives the same result as the brute-force search (but slower).\n",
        "\n",
        "The figure below show an example for a query $x$ with $k'=64$ and `nprobes=4`\n",
        "\n",
        "<img src=\"https://ieeexplore.ieee.org/mediastore_new/IEEE/content/media/6287639/8600701/8653810/wang3-2900730-large.gif\" alt=\"Nearest neighbor retrieval with inverted file index. nprobes=4, k'=64\" width=\"450\"/>\n",
        "\n",
        "IVF can be used in faiss through the `IndexIVFFlat` class. This type of index requires a training stage, that can be performed on any collection of vectors that has the same distribution as the database vectors. Usually the database vectors themselves are used.\n",
        "\n",
        "This index also requires another index, the **quantizer**, that assigns vectors to Voronoi cells. Each cell is defined by a centroid, and finding the Voronoi cell a vector falls in consists in finding the nearest neighbor of the vector in the set of centroids. This is the task of the other index, which is typically an `IndexFlatL2`."
      ]
    },
    {
      "cell_type": "code",
      "execution_count": null,
      "metadata": {
        "id": "VFHYXlXUYeNt"
      },
      "outputs": [],
      "source": [
        "k_prime = 100 # number of voronoi cells\n",
        "k = 5 # we want to find top-5 nearest neighbors\n",
        "nprobe = 1 # number of probes, faiss use 1 as default\n",
        "\n",
        "quantizer = faiss.IndexFlatL2(d) # index that assign embedding to voronoi cells\n",
        "ivf_index = faiss.IndexIVFFlat(quantizer, d, k_prime) # main index used to perform retrieval\n",
        "\n",
        "\n",
        "assert not ivf_index.is_trained\n",
        "ivf_index.train(dataset_embeddings) # train the index (i.e. subdivided the space into cells)\n",
        "assert ivf_index.is_trained\n",
        "\n",
        "ivf_index.nprobe = nprobe\n",
        "ivf_index.add(dataset_embeddings) # add may be slower than the L2 index\n",
        "IVF_D, IVF_I = ivf_index.search(query_embeddings, k) # actual search\n",
        "print(f\"Indices of the nearest neighbors of the first {check_queries} queries\\n{IVF_I[:check_queries]}\\n\")\n",
        "\n",
        "print(f\"The distances between the first query and its nearest neighbors are {IVF_D[0, :]}\\n\")\n"
      ]
    },
    {
      "cell_type": "markdown",
      "metadata": {
        "id": "YH6Ll8n8if6r"
      },
      "source": [
        "Check how much time it requires to find top-k results with IVF index"
      ]
    },
    {
      "cell_type": "code",
      "execution_count": null,
      "metadata": {
        "id": "9Gr2wloriluy"
      },
      "outputs": [],
      "source": [
        "ivf_avg_time = avg_search_time(ivf_index, query_embeddings, k, num_iterations=5)\n",
        "print(f\"Average time for IVF index: {ivf_avg_time}\")"
      ]
    },
    {
      "cell_type": "markdown",
      "metadata": {
        "id": "GZ4Hu0ZXzE7i"
      },
      "source": [
        "Let's try using a higher `nprobe` value"
      ]
    },
    {
      "cell_type": "code",
      "execution_count": null,
      "metadata": {
        "id": "GY7bkiluzc0M"
      },
      "outputs": [],
      "source": [
        "nprobes = 3\n",
        "ivf_index.nprobe = nprobes\n",
        "ivf_avg_time = avg_search_time(ivf_index, query_embeddings, k, num_iterations=5)\n",
        "\n",
        "print(f\"Average time for IVF index: {ivf_avg_time}\")"
      ]
    },
    {
      "cell_type": "markdown",
      "metadata": {
        "id": "d__oL3fKhM1q"
      },
      "source": [
        "We can compare the results of the IVF index and the L2 Naive index"
      ]
    },
    {
      "cell_type": "code",
      "execution_count": null,
      "metadata": {
        "id": "0VGDSVkkhMeb"
      },
      "outputs": [],
      "source": [
        "print(f\"Results of the L2 index for the first {check_queries} queries\\n{L2_I[:check_queries]}\\n\")\n",
        "print(f\"Results of the IVF index for the first {check_queries} queries\\n{IVF_I[:check_queries]}\\n\")"
      ]
    },
    {
      "cell_type": "markdown",
      "metadata": {
        "id": "g8tq7QPr8yIY"
      },
      "source": [
        "## PCA Reduction\n",
        "To further improve performance one can also reduce the dimensionality of the embeddings before adding them to the index. This can be done in fass using Principal Component Analysis. We will try to perform naive nearest neighbor retrieval reducing the dimensionality from $d=256$ to $d'=32$.\n",
        "\n",
        "The idea therefore is to combine two operations: first, we want to reduce embeddings dimensions, second we want to create a IndexL2 on the reduced embeddings.\n",
        "\n",
        "To facilitate the construction of these type index structures, faiss provides the `index_factory` method which interprets a string to produce a composite Faiss index.\n",
        "\n",
        "In our case we will set `index = index_factory(256, \"PCA32,Flat\")`.\n",
        "`Flat` indicates the exhaustive search with `IndexL2`."
      ]
    },
    {
      "cell_type": "code",
      "execution_count": null,
      "metadata": {
        "id": "YTYKPrdYlTwS"
      },
      "outputs": [],
      "source": [
        "from faiss import index_factory\n",
        "\n",
        "d_prime = 32\n",
        "pca_index = index_factory(d, f\"PCA{d_prime},Flat\")\n",
        "pca_index.train(dataset_embeddings)\n",
        "pca_index.add(dataset_embeddings)\n",
        "\n",
        "PCA_D, PCA_I = pca_index.search(query_embeddings, k) # actual search\n",
        "print(f\"Indices of the nearest neighbors of the first {check_queries} queries\\n{PCA_I[:check_queries]}\\n\")\n",
        "\n",
        "print(f\"The distances between the first query and its nearest neighbors are {PCA_D[0, :]}\\n\")"
      ]
    },
    {
      "cell_type": "code",
      "execution_count": null,
      "metadata": {
        "id": "n1R8mviv0mLk"
      },
      "outputs": [],
      "source": [
        "print(f\"Results of the L2 index for the first {check_queries} queries\\n{L2_I[:check_queries]}\\n\")\n",
        "print(f\"Results of the PCA index for the first {check_queries} queries\\n{PCA_I[:check_queries]}\\n\")"
      ]
    },
    {
      "cell_type": "code",
      "execution_count": null,
      "metadata": {
        "id": "r2vEi6Qy0yRU"
      },
      "outputs": [],
      "source": [
        "pca_avg_time = avg_search_time(pca_index, query_embeddings,k,num_iterations=5)\n",
        "print(f\"Average time for PCA index: {pca_avg_time}\")"
      ]
    },
    {
      "cell_type": "markdown",
      "metadata": {
        "id": "1GzrkxhB_M5y"
      },
      "source": [
        "## GPU vs CPU"
      ]
    },
    {
      "cell_type": "markdown",
      "metadata": {
        "id": "dPuYKs2L09jl"
      },
      "source": [
        "Faiss supports GPU computation. The GPU usually represents a significant speedup over the CPU implementations. We can access GPU through the `faiss.StandardGpuResources()` class."
      ]
    },
    {
      "cell_type": "code",
      "execution_count": null,
      "metadata": {
        "id": "W7FhSQWZBhvh"
      },
      "outputs": [],
      "source": [
        "res = faiss.StandardGpuResources()"
      ]
    },
    {
      "cell_type": "markdown",
      "metadata": {
        "id": "8UvDpkzTMNXJ"
      },
      "source": [
        "And we can move indices to GPU using the `index_cpu_to_gpu`."
      ]
    },
    {
      "cell_type": "code",
      "execution_count": null,
      "metadata": {
        "id": "_HdjVWVN_Oz4"
      },
      "outputs": [],
      "source": [
        "k = 100                               # find top k results\n",
        "\n",
        "gpu_index_l2 = faiss.IndexFlatL2(d)   # create an index FlatL2 index\n",
        "gpu_index_l2.add(dataset_embeddings) # add vectors to the index\n",
        "gpu_index_l2 = faiss.index_cpu_to_gpu(res, 0, gpu_index_l2) # move the index on the gpu\n",
        "\n",
        "gpu_index_l2_avg_time = avg_search_time(gpu_index_l2, query_embeddings,k, num_iterations=5)\n",
        "print(f\"Average time for GPU L2 index: {gpu_index_l2_avg_time}\")"
      ]
    },
    {
      "cell_type": "markdown",
      "metadata": {
        "id": "EUB4RFYmK-Zi"
      },
      "source": [
        "## Exercise 1\n",
        "\n",
        "Create an IVF index and PCA index and move them to the GPU, then compute the average time required to perform the queries"
      ]
    },
    {
      "cell_type": "code",
      "execution_count": null,
      "metadata": {
        "id": "Hx3tE1ZuBfPE"
      },
      "outputs": [],
      "source": [
        "# code here"
      ]
    },
    {
      "cell_type": "code",
      "execution_count": null,
      "metadata": {
        "cellView": "form",
        "id": "Bmzr_5Y3LL4g"
      },
      "outputs": [],
      "source": [
        "#@title Solution\n",
        "k_prime = 100 # number of voronoi cells\n",
        "k = 5 # we want to find top-5 nearest neighbors\n",
        "nprobe = 1 # number of probes, faiss use 1 as default\n",
        "\n",
        "quantizer = faiss.IndexFlatL2(d) # index that assign embedding to voronoi cells\n",
        "gpu_ivf_index = faiss.IndexIVFFlat(quantizer, d, k_prime) # main index used to perform retrieval\n",
        "gpu_ivf_index.train(dataset_embeddings) # train the index (i.e. subdivided the space into cells)\n",
        "gpu_ivf_index = faiss.index_cpu_to_gpu(res, 0, gpu_ivf_index) # move the index on the gpu\n",
        "\n",
        "gpu_ivf_index.nprobe = nprobe\n",
        "gpu_ivf_index.add(dataset_embeddings) # add may be slowwer than the L2 index\n",
        "gpu_index_ivf_avg_time = avg_search_time(gpu_ivf_index, query_embeddings, k, num_iterations=5)\n",
        "print(f\"Average time for GPU IVF index: {gpu_index_ivf_avg_time}\")\n",
        "\n",
        "d_prime = 32\n",
        "gpu_pca_index = index_factory(d, f\"PCA{d_prime},Flat\")\n",
        "gpu_pca_index.train(dataset_embeddings)\n",
        "gpu_pca_index.add(dataset_embeddings)\n",
        "gpu_pca_index = faiss.index_cpu_to_gpu(res, 0, gpu_pca_index) # move the index on the gpu\n",
        "gpu_pca_index_avg_time = avg_search_time(gpu_pca_index, query_embeddings, k, num_iterations=5)\n",
        "\n",
        "print(f\"Average time for GPU PCA index: {gpu_pca_index_avg_time}\")\n"
      ]
    },
    {
      "cell_type": "markdown",
      "metadata": {
        "id": "CB2hC4896kT4"
      },
      "source": [
        "# Test on a Real Dataset (FashionGen)"
      ]
    },
    {
      "cell_type": "markdown",
      "metadata": {
        "id": "bMIEHxckcqNt"
      },
      "source": [
        "## Dataset Utils"
      ]
    },
    {
      "cell_type": "code",
      "execution_count": null,
      "metadata": {
        "id": "kY8oOqXxYHbn"
      },
      "outputs": [],
      "source": [
        "\"\"\"\n",
        "FashionGen strings encoding\n",
        "\"\"\"\n",
        "DEFAULT_STRINGS_ENCODING = \"ISO-8859-9\"\n",
        "\n",
        "@dataclass\n",
        "class Product:\n",
        "    p_id:int\n",
        "    name:str = \"\"\n",
        "    caption:str = \"\"\n",
        "    concat_caption:str = \"\"\n",
        "    image:np.ndarray = None\n",
        "    category:str = \"\"\n",
        "    subcategory:str = \"\"\n",
        "    composition:str = \"\"\n",
        "    department:str = \"\"\n",
        "    gender:str = \"\"\n",
        "    msrpUSD: float = 0\n",
        "    season: str = \"\"\n",
        "    brand:str = \"\"\n",
        "    pose:str = \"id_gridfs_1\"\n",
        "    index:int =-1\n",
        "    caption_embedding: np.ndarray = None\n",
        "    image_embedding: np.ndarray = None\n",
        "\n",
        "\n",
        "    def __lt__(self, other):\n",
        "        return self.p_id < other.p_id\n",
        "\n",
        "    def __eq__(self, other):\n",
        "        return self.p_id == other.p_id and self.pose == other.pose\n",
        "\n",
        "    def __hash__(self):\n",
        "        return hash((self.p_id, self.pose))\n",
        "\n",
        "    def __str__(self):\n",
        "      return os.linesep.join([f\"{a}: {v}\" for a,v in self.__dict__.items() if isinstance(v, str) or isinstance(v,float)])\n",
        "\n",
        "\n",
        "class FashionGenDataset:\n",
        "    def __init__(self, file_name):\n",
        "        self.__subcategory_dict = None\n",
        "        self.__productid_dict = None\n",
        "        self.__category_dict = None\n",
        "        self.__loaded_products = []\n",
        "        self.__products_lodaded = False\n",
        "        self.dataset = h5py.File(file_name, mode=\"r\")\n",
        "\n",
        "    def __getitem__(self, index):\n",
        "        if isinstance(index, slice):\n",
        "            return [\n",
        "                self.get_product(i)\n",
        "                for i in tqdm(\n",
        "                    range(\n",
        "                        min(self.length(), index.start),\n",
        "                        min(self.length(), index.stop),\n",
        "                        index.step if index.step is not None else 1,\n",
        "                    )\n",
        "                )\n",
        "            ]\n",
        "        else:\n",
        "            return self.get_product(index)\n",
        "\n",
        "    def __len__(self):\n",
        "        return self.length()\n",
        "\n",
        "    def load_products(self):\n",
        "        \"\"\"Load all products in a python array.\"\"\"\n",
        "        if not self.__products_lodaded:\n",
        "            print(\"Loading products...\")\n",
        "            self.__loaded_products = [self.get_product(i) for i in tqdm(range(self.length()))]\n",
        "            self.__products_lodaded = True\n",
        "\n",
        "    def length(self):\n",
        "        return len(self.dataset[\"input_productID\"])\n",
        "\n",
        "    def distinct_products_in_subcategory(self, subcategory: str):\n",
        "        return set([p_id for _, p_id in self.subcategory_dict()[subcategory]])\n",
        "\n",
        "    def distinct_products_in_category(self, category: str):\n",
        "        return set([p_id for _, p_id in self.category_dict()[category]])\n",
        "\n",
        "    def raw_h5(self):\n",
        "        return self.dataset\n",
        "\n",
        "    def close_file(self):\n",
        "        self.dataset.close()\n",
        "\n",
        "    def get_pid_of(self, index):\n",
        "      return self.dataset[\"input_productID\"][index][0]\n",
        "\n",
        "    def get_product(self, index, string_encoding = DEFAULT_STRINGS_ENCODING):\n",
        "        \"\"\"Return the product in the dataset at the specified index\"\"\"\n",
        "        if self.__products_lodaded:\n",
        "            return self.__loaded_products[index]\n",
        "        else:\n",
        "            return Product(\n",
        "                p_id=self.dataset[\"input_productID\"][index][0],\n",
        "                name=self.dataset[\"input_name\"][index][0].decode(string_encoding),\n",
        "                caption=self.dataset[\"input_description\"][index][0].decode(string_encoding),\n",
        "                #concat_caption=self.dataset[\"input_concat_description\"][index][0].decode(string_encoding),\n",
        "                image=self.dataset[\"input_image\"][index],\n",
        "                category=self.dataset[\"input_category\"][index][0].decode(string_encoding),\n",
        "                subcategory=self.dataset[\"input_subcategory\"][index][0].decode(string_encoding),\n",
        "                pose=self.dataset[\"input_pose\"][index][0].decode(string_encoding),\n",
        "                #composition = self.dataset[\"input_composition\"][index][0].decode(string_encoding),\n",
        "                #department = self.dataset[\"input_department\"][index][0].decode(string_encoding),\n",
        "                #gender =  self.dataset[\"input_gender\"][index][0].decode(string_encoding),\n",
        "                #msrpUSD = float(self.dataset[\"input_msrpUSD\"][index][0]),\n",
        "                #season = self.dataset[\"input_season\"][index][0].decode(string_encoding),\n",
        "                #brand = self.dataset[\"input_brand\"][index][0].decode(string_encoding),\n",
        "                index=index\n",
        "            )\n",
        "\n",
        "    def get_product_by_id(self, product_id: int, get_random: bool = False):\n",
        "        \"\"\"\n",
        "        Get the product with the specified product id.\n",
        "        The image of the product is the first one that appears in the dataset if get_random is set to False, Otherwise a random one is selected\n",
        "        Args:\n",
        "            product_id: the id of the product to get\n",
        "            get_random: if False, the first image of the product will be returned, otherwise a random one is selected\n",
        "        \"\"\"\n",
        "        product_indexes = self.productID_dict()[product_id]\n",
        "        index = random.choice(product_indexes) if get_random else product_indexes[0]\n",
        "        return self.get_product(index)\n",
        "\n",
        "    def subcategory_dict(self) -> dict:\n",
        "        \"\"\"A dictionary that foreach 'subcategory' keeps a list of products (and indexes)\n",
        "        that belong to it\"\"\"\n",
        "        if self.__subcategory_dict is None:\n",
        "            self.__subcategory_dict = self.__create_attribute_dict(\"input_subcategory\")\n",
        "\n",
        "        return self.__subcategory_dict\n",
        "\n",
        "    def category_dict(self) -> dict:\n",
        "        \"\"\"A dictionary that foreach 'category' keeps a list of products (and indexes)\n",
        "        that belong to it\"\"\"\n",
        "        if self.__category_dict is None:\n",
        "            self.__category_dict = self.__create_attribute_dict(\"input_category\")\n",
        "        return self.__category_dict\n",
        "\n",
        "    def productID_dict(self) -> dict:\n",
        "        \"\"\"A dictionary that foreach productID keeps the list of indexes in the dataset where those products can be found\"\"\"\n",
        "        if self.__productid_dict is None:\n",
        "            self.__productid_dict = self.__create_productID_dict()\n",
        "        return self.__productid_dict\n",
        "\n",
        "    def get_random_product(self, id_different_from: int = None) -> Product:\n",
        "        \"\"\"\n",
        "        Return a random product from the dataset\n",
        "        Args:\n",
        "            id_different_from: an id of a product that cannot be taken. Use None if any products can be returned\n",
        "        Returns:\n",
        "            A random product with an id different from 'id_different_from' (if specified)\n",
        "        \"\"\"\n",
        "        random_product = self[random.choice(range(self.length() - 1))]\n",
        "        while id_different_from is not None and random_product.p_id == id_different_from:\n",
        "            random_product = self[random.choice(range(self.length() - 1))]\n",
        "        return random_product\n",
        "\n",
        "    def get_random_products(self, id_different_from: int = None, n: int = 1) -> List[Product]:\n",
        "        \"\"\"\n",
        "        Get a list of random products\n",
        "        Args:\n",
        "            id_different_from: an id of a product that cannot be taken. Use None if any products can be returned\n",
        "            n: number of products to return\n",
        "        Returns:\n",
        "            A list of n products with product ids different from id_different_from (is specified)\n",
        "        \"\"\"\n",
        "        # we don't call the 'get_random_product' function n times because we want to avoid taking the same product (and image)\n",
        "        # multiple times.\n",
        "        random_indexes = random.sample(range(self.length() - 1), n)\n",
        "        random_products = [self[index] for index in random_indexes]\n",
        "        # replace all products that have id equals to id_different_from with other random ones.\n",
        "        # It can happen after this step that the same negative product is repeated\n",
        "        random_products = map(\n",
        "            lambda p: self.get_random_product(id_different_from)\n",
        "            if id_different_from is not None and p.p_id == id_different_from\n",
        "            else p,\n",
        "            random_products,\n",
        "        )\n",
        "        return list(random_products)\n",
        "\n",
        "    def get_same_subcategory_of(self, product: Product, n: int = 1) -> List[Product]:\n",
        "        \"\"\"\n",
        "        Get a list of random products with the same subcategory of the given product (but with different product ids).\n",
        "        If the given subcategory has less products than the number n specified, some random product will be returned\n",
        "        Args:\n",
        "            product: the product for which we want to find other ones with the same subcategory\n",
        "            n: The number of products to return\n",
        "        Returns:\n",
        "            A list of n products with different ids but same subcategory of the given one.\n",
        "\n",
        "        \"\"\"\n",
        "        negative_prods_idxs = [\n",
        "            index for index, p_id in self.subcategory_dict()[product.subcategory] if p_id != product.p_id\n",
        "        ]\n",
        "        return self.__get_random_products_by_indexes(negative_prods_idxs, product.p_id, n)\n",
        "\n",
        "    def get_same_category_of(self, product: Product, n: int = 1) -> List[Product]:\n",
        "        \"\"\"\n",
        "        Get a list of random products with the same category of the given product (but with different product ids).\n",
        "        If the given category has less products than the number n specified, some random product will be returned\n",
        "        Args:\n",
        "            product: the product for which we want to find other ones with the same category\n",
        "            n: The number of products to return\n",
        "        Returns:\n",
        "            A list of n products with different ids but same category of the given one.\n",
        "        \"\"\"\n",
        "        negative_prods_idxs = [index for index, p_id in self.category_dict()[product.category] if p_id != product.p_id]\n",
        "        return self.__get_random_products_by_indexes(negative_prods_idxs, product.p_id, n)\n",
        "\n",
        "    def __get_random_products_by_indexes(\n",
        "        self, indexes: List[int], id_different_from: int = None, n: int = 1\n",
        "    ) -> Product:\n",
        "        \"\"\"\n",
        "        Return a given number of products randomly sampling indexes from a given list. If the number 'n' specified\n",
        "        is bigger the number of indexes, other random products will be takens (with ids different from 'id_different_from')\n",
        "        \"\"\"\n",
        "        if len(indexes) >= n:\n",
        "            return [self.get_product(idx) for idx in random.sample(indexes, n)]\n",
        "        else:\n",
        "            return self.__get_random_products_by_indexes(\n",
        "                indexes, id_different_from, len(indexes)\n",
        "            ) + self.get_random_products(id_different_from, n - len(indexes))\n",
        "\n",
        "    def get_batch(self, features, from_index, to_index):\n",
        "        \"\"\"Get a batch of the raw h5 dataset\n",
        "\n",
        "        Args:\n",
        "            features(list(str)): list of names of features present in the dataset\n",
        "                that should be returned.\n",
        "            batch_number(int): the id of the batch to be returned.\n",
        "            batch_size(int): the mini-batch size\n",
        "        Returns:\n",
        "            A list of numpy arrays of the requested features\"\"\"\n",
        "        batch = {}\n",
        "        for feature in features:\n",
        "            batch[feature] = self.dataset[feature][from_index:to_index]\n",
        "        return batch\n",
        "\n",
        "    def __create_productID_dict(self):\n",
        "        print(f\"Creating productID dictionary...\")\n",
        "        prodID_to_index = {}\n",
        "        for i in tqdm(range(self.length()), position=0, leave=True):\n",
        "            prod_id = self.dataset[\"input_productID\"][i][0]\n",
        "            if prod_id in prodID_to_index:\n",
        "                prodID_to_index[prod_id].append(i)\n",
        "            else:\n",
        "                prodID_to_index[prod_id] = [i]\n",
        "        return prodID_to_index\n",
        "\n",
        "    def __create_attribute_dict(self, attribute):\n",
        "        print(f\"Creating {attribute} dictionary...\")\n",
        "        attribute_to_prod = {}\n",
        "        for i in tqdm(range(self.length()), position=0, leave=True):\n",
        "            attribute_value = self.dataset[attribute][i][0]\n",
        "            prod_id = self.dataset[\"input_productID\"][i][0]\n",
        "            if attribute_value in attribute_to_prod:\n",
        "                # indexes = attribute_to_prod[attribute_value]\n",
        "                # if (prod_id not in [p for i, p in indexes]):\n",
        "                attribute_to_prod[attribute_value].append((i, prod_id))\n",
        "            else:\n",
        "                attribute_to_prod[attribute_value] = [(i, prod_id)]\n",
        "        return attribute_to_prod\n"
      ]
    },
    {
      "cell_type": "markdown",
      "metadata": {
        "id": "bMXyAs7FOBdI"
      },
      "source": [
        "## Visualization Utils"
      ]
    },
    {
      "cell_type": "code",
      "execution_count": null,
      "metadata": {
        "id": "W-Q_8XM5OAV5"
      },
      "outputs": [],
      "source": [
        "def visualize_product_images(products: List[Product], n_cols = 5, highlight_id = None):\n",
        "  \"\"\"\n",
        "  Utility function to visualize product images with matplotlib\n",
        "  \"\"\"\n",
        "  fig = plt.figure(figsize=(32, 32))\n",
        "  grid = ImageGrid(fig, 111,  # similar to subplot(111)\n",
        "                  nrows_ncols=(len(products)//n_cols, n_cols),  # creates 2x2 grid of axes\n",
        "                  axes_pad=0.1,  # pad between axes in inch.\n",
        "                  )\n",
        "\n",
        "  for ax, p in zip(grid, products):\n",
        "      ax.imshow(p.image)\n",
        "      ax.set_xticks([])\n",
        "      ax.set_yticks([])\n",
        "      if p.p_id==highlight_id:\n",
        "        for s in ax.spines:\n",
        "          ax.spines[s].set_color('green')\n",
        "          ax.spines[s].set_linewidth(3.5)\n",
        "\n",
        "\n",
        "def imscatter(x, y, images, ax=None, zoom=1):\n",
        "  if ax is None:\n",
        "    ax = plt.gca()\n",
        "  artists = []\n",
        "  for x0, y0, i in zip(x, y, images):\n",
        "    im = OffsetImage(i, zoom=zoom)\n",
        "    #x, y = np.atleast_1d(x, y)\n",
        "    ab = AnnotationBbox(im, (x0, y0), xycoords='data', frameon=False)\n",
        "    ab.set_zorder(-2)\n",
        "    artists.append(ax.add_artist(ab))\n",
        "  ax.update_datalim(np.column_stack([x, y]))\n",
        "  ax.autoscale()\n",
        "  return artists"
      ]
    },
    {
      "cell_type": "markdown",
      "metadata": {
        "id": "vww5-uRzBkre"
      },
      "source": [
        "## Download Dataset"
      ]
    },
    {
      "cell_type": "code",
      "execution_count": null,
      "metadata": {
        "id": "tE9tf3oDpEqz"
      },
      "outputs": [],
      "source": [
        "if not os.path.isfile(\"caption_embeddings.npy\"):\n",
        "  !gdown --id 1NcvbkfI5HeE3sxIZzQReXY0HzJ8px8vq # caption embeddings\n",
        "\n",
        "if not os.path.isfile(\"image_embeddings.npy\"):\n",
        "  !gdown --id 1LUszAI6nHe2Cs2M2ouzY7WpkQhtLJ6c_ # image embeddings\n",
        "\n",
        "if not os.path.isfile(\"fashiongen_256_256_validation.h5\"):\n",
        "  !wget https://fashiongen.s3.eu-central-1.amazonaws.com/fashiongen_256_256_validation.h5"
      ]
    },
    {
      "cell_type": "code",
      "execution_count": null,
      "metadata": {
        "id": "HE4kSvc_vc-M"
      },
      "outputs": [],
      "source": [
        "dataset = FashionGenDataset(\"fashiongen_256_256_validation.h5\")\n",
        "dataset.productID_dict()\n",
        "#dataset.load_products()\n",
        "print(\"done.\")"
      ]
    },
    {
      "cell_type": "markdown",
      "metadata": {
        "id": "OdlJLgVOOHOg"
      },
      "source": [
        "## Load Embeddings"
      ]
    },
    {
      "cell_type": "markdown",
      "metadata": {
        "id": "LMgOKJDOOJCt"
      },
      "source": [
        "We load caption and image embeddings from file. These are embeddings generated from the FashionGen validation dataset using a Vision-and-Language transformer trained with metric learning.\n",
        "\n",
        "The dataset contains 7519 distinct products. Each product can have up to 6 different images taken at different angles with the same description. There are a total of 32528 images."
      ]
    },
    {
      "cell_type": "code",
      "execution_count": null,
      "metadata": {
        "id": "HO69lxQxAQSk"
      },
      "outputs": [],
      "source": [
        "caption_embeddings = np.load(\"caption_embeddings.npy\")\n",
        "image_embeddings = np.load(\"image_embeddings.npy\")\n",
        "product_ids = np.array([dataset.get_pid_of(i) for i in tqdm(range(len(image_embeddings)))]).astype(np.int64)\n",
        "\n",
        "print(f\"\"\"\n",
        "There are\n",
        "  {len(caption_embeddings)} caption embeddings\n",
        "  {len(image_embeddings)} image embeddings\n",
        "  with dimension: {caption_embeddings.shape[1]}\n",
        "\"\"\")\n",
        "print(f\"The number of distinct products is {len(set(product_ids))}\")"
      ]
    },
    {
      "cell_type": "markdown",
      "metadata": {
        "id": "FXLRUEA1_1o_"
      },
      "source": [
        "## Text to Image Retieval"
      ]
    },
    {
      "cell_type": "markdown",
      "metadata": {
        "id": "70EN0rLq_38W"
      },
      "source": [
        "For **Text-to-Image Retrieval** we will take $Q=200$ random captions as queries and we will use the 32528 images as documents."
      ]
    },
    {
      "cell_type": "code",
      "execution_count": null,
      "metadata": {
        "id": "XMpqV2LXCTQP"
      },
      "outputs": [],
      "source": [
        "np.random.seed(1)\n",
        "\n",
        "Q = 200\n",
        "indices = np.random.choice(caption_embeddings.shape[0], size=Q, replace=False) # select indices\n",
        "query_embeddings = caption_embeddings[indices] # get caption embeddings\n",
        "queries_text = [dataset[i].caption for i in indices] # get caption texts for visualization\n",
        "queries_ids = [dataset[i].p_id for i in indices] # get product ids of the queries to test results"
      ]
    },
    {
      "cell_type": "markdown",
      "metadata": {
        "id": "BaydBPNWDIZ8"
      },
      "source": [
        "Print some queries"
      ]
    },
    {
      "cell_type": "code",
      "execution_count": null,
      "metadata": {
        "id": "BPbAdY97C7GP"
      },
      "outputs": [],
      "source": [
        "for i, q in enumerate(queries_text[:5]):\n",
        "  print(i, q)"
      ]
    },
    {
      "cell_type": "markdown",
      "metadata": {
        "id": "JNd6qwiWBzi_"
      },
      "source": [
        "Create a naive FlatL2 index for image embeddings.\n",
        "\n",
        "Differently from the previous examples, here **we want to associate each embedding with its product id** and not with its index in the list (indeed this is what is usually done in real scenarios where you need to access products in a database through their identifier). Faiss allows to do that with the `add_with_ids(embeddings, ids)` method.\n",
        "\n",
        "In order to use this methods on a `FlatL2Index`, we must create it with the index_factory using the following parameter `\"IDMap, Flat\"`. `IDMap` tells faiss backend to map indexes to ids."
      ]
    },
    {
      "cell_type": "code",
      "execution_count": null,
      "metadata": {
        "id": "3X0z9t0vB45L"
      },
      "outputs": [],
      "source": [
        "d = image_embeddings.shape[1] # dimension of the embeddings (i.e. 768)\n",
        "index = faiss.index_factory(d, \"IDMap,Flat\")\n",
        "\n",
        "# associate each embedding with its product_id\n",
        "index.add_with_ids(image_embeddings, product_ids)\n",
        "\n",
        "# try moving the index on GPU to speed up retrieval\n",
        "try:\n",
        "  res = faiss.StandardGpuResources()\n",
        "  index = faiss.index_cpu_to_gpu(res, 0, index)\n",
        "except:\n",
        "  print(\"GPU not available!\")"
      ]
    },
    {
      "cell_type": "markdown",
      "metadata": {
        "id": "s3udoXrG3F_V"
      },
      "source": [
        "We can find the top-100 results using the `search` method and setting $k=100$"
      ]
    },
    {
      "cell_type": "code",
      "execution_count": null,
      "metadata": {
        "id": "BDAcUbVvDb3f"
      },
      "outputs": [],
      "source": [
        "k = 100\n",
        "# SEARCH\n",
        "start = time.time()\n",
        "D,I = index.search(query_embeddings, k)\n",
        "print(f\"Result found in {time.time()-start} seconds\")"
      ]
    },
    {
      "cell_type": "markdown",
      "metadata": {
        "id": "Z_Ocy9lTQvYp"
      },
      "source": [
        "Compute $Rank@K$ (K=1, 5, 10, 30, 100), which is the percentage of times the correct images is selected among the first K results. For instance, if we have $Rank@1=10\\%$, it means that the correct image has been selected as the top-1 result 10% of the times. Another useful metric can be the $R\\_Sum$, which is the sum of all Rank@K,   $R\\_Sum=Rank@1 + Rank@5 \\dots + = \\sum_k Rank@k$"
      ]
    },
    {
      "cell_type": "code",
      "execution_count": null,
      "metadata": {
        "id": "7m8dmJWMQu4J"
      },
      "outputs": [],
      "source": [
        "def compute_rank_at_k(query_ids, result, Ks) -> dict:\n",
        "  \"\"\"\n",
        "    Compute Rank@K metric for different Ks.\n",
        "    Parameters\n",
        "    -----------\n",
        "    query_ids: the product ids of the queries\n",
        "    result: The retrieved ids for each query\n",
        "    Ks: the different values of K to use\n",
        "  \"\"\"\n",
        "  fount_at_top_k = {k: 0 for k in Ks}\n",
        "  for q,r in zip(query_ids, result):\n",
        "    indicator = (r==q).astype(np.int32)\n",
        "    for j, label in enumerate(indicator):\n",
        "      if label:\n",
        "        fount_at_top_k = {k: v + (1 if k >= j + 1 else 0) for k, v in fount_at_top_k.items()}\n",
        "        break\n",
        "  return {k: v/len(query_ids) for k,v in fount_at_top_k.items()}\n",
        "\n",
        "def r_sum(rank_at_k: dict) -> float:\n",
        "  \"\"\"\n",
        "  Compute the sum of all Rank@K accuracies in the input dictionary\n",
        "  \"\"\"\n",
        "  return reduce(lambda a,b: a+b, rank_at_k.values())\n",
        "\n",
        "def print_result(rank_at_k: dict) -> None:\n",
        "  \"\"\"\n",
        "  Print Rank@K results\n",
        "  Parameters\n",
        "  -----------\n",
        "  rank_at_k: a dictionary that maps K to the corresponding accuracy value\n",
        "  \"\"\"\n",
        "  for k, acc in rank_at_k.items():\n",
        "    print(f\"Rank@{k}={acc*100}%\")\n",
        "\n",
        "  print(f\"R_Sum={r_sum(rank_at_k)*100}\")\n",
        "\n",
        "# Actual computation\n",
        "Ks = [1, 3, 5, 10, 30, 100]\n",
        "rank_at_k = compute_rank_at_k(queries_ids, I, Ks)\n",
        "print_result(rank_at_k)"
      ]
    },
    {
      "cell_type": "markdown",
      "metadata": {
        "id": "qCGNUpQQMEFg"
      },
      "source": [
        "Visualize the top-10 results of a given query `q`. You can change the query index modifying the value in the next cell. Make sure that `0 <= q < Q`"
      ]
    },
    {
      "cell_type": "code",
      "execution_count": null,
      "metadata": {
        "id": "0T8N6wiTMjJ4"
      },
      "outputs": [],
      "source": [
        "q = 1\n",
        "assert 0 <= q < Q, f\"The query index must be less that the number of queries {Q}\""
      ]
    },
    {
      "cell_type": "code",
      "execution_count": null,
      "metadata": {
        "id": "wklyksp6K5Kg"
      },
      "outputs": [],
      "source": [
        "product = dataset.get_product_by_id(queries_ids[q])\n",
        "print(\"Target:\")\n",
        "plt.imshow(product.image)"
      ]
    },
    {
      "cell_type": "code",
      "execution_count": null,
      "metadata": {
        "id": "jXoTM3bcHPd4"
      },
      "outputs": [],
      "source": [
        "queries_text[q]"
      ]
    },
    {
      "cell_type": "code",
      "execution_count": null,
      "metadata": {
        "id": "6c3r_N12IB-A"
      },
      "outputs": [],
      "source": [
        "print(product.caption)\n",
        "see_top = 5\n",
        "retrieved_ids = I[q]\n",
        "# make sure a product is not repeated multiple times\n",
        "unique_retrieved_ids = list(dict.fromkeys(retrieved_ids))\n",
        "retrieved = [dataset.get_product_by_id(i) for i in unique_retrieved_ids[:see_top]]\n",
        "visualize_product_images(retrieved, highlight_id=product.p_id)"
      ]
    },
    {
      "cell_type": "markdown",
      "metadata": {
        "id": "puYG-jpJ4nEu"
      },
      "source": [
        "What accuracy can we achieve with an approximate nearest neighbor search technique?\n",
        "\n",
        "Lets' create an **IVF index with 100 cells**"
      ]
    },
    {
      "cell_type": "code",
      "execution_count": null,
      "metadata": {
        "id": "-xepGOIp46PH"
      },
      "outputs": [],
      "source": [
        "k_prime = 100 # number of voronoi cells\n",
        "\n",
        "ivf_index = faiss.index_factory(d, f\"IVF{k_prime},Flat\") # IVF index with IndexFlatL2 as quantizer\n",
        "# the ivf index already has the IDMap by default\n",
        "\n",
        "ivf_index.train(image_embeddings) # train the index (i.e. subdivided the space into cells)\n",
        "\n",
        "ivf_index.add_with_ids(image_embeddings, product_ids)\n",
        "\n",
        "# try moving the index on GPU to speed up retrieval\n",
        "try:\n",
        "  res = faiss.StandardGpuResources()\n",
        "  ivf_index = faiss.index_cpu_to_gpu(res, 0, ivf_index)\n",
        "except:\n",
        "  print(\"GPU not available!\")\n",
        "\n",
        "k = 100\n",
        "# SEARCH\n",
        "start = time.time()\n",
        "D,I = ivf_index.search(query_embeddings, k)\n",
        "print(f\"Result found in {time.time()-start} seconds\")\n",
        "\n",
        "rank_at_k = compute_rank_at_k(queries_ids, I, Ks)\n",
        "print_result(rank_at_k)"
      ]
    },
    {
      "cell_type": "markdown",
      "metadata": {
        "id": "UCgxVZQpIgMg"
      },
      "source": [
        "We can try to improve results by increasing the `nprobe` parameter."
      ]
    },
    {
      "cell_type": "code",
      "execution_count": null,
      "metadata": {
        "id": "ZfP3f0MvIfeQ"
      },
      "outputs": [],
      "source": [
        "nprobe = 3\n",
        "ivf_index.nprobe = nprobe\n",
        "\n",
        "start = time.time()\n",
        "D,I = ivf_index.search(query_embeddings, k)\n",
        "print(f\"Result found in {time.time()-start} seconds\")"
      ]
    },
    {
      "cell_type": "code",
      "execution_count": null,
      "metadata": {
        "id": "YUAUcnG4I7O4"
      },
      "outputs": [],
      "source": [
        "rank_at_k = compute_rank_at_k(queries_ids, I, Ks)\n",
        "print_result(rank_at_k)"
      ]
    },
    {
      "cell_type": "markdown",
      "metadata": {
        "id": "fr4q1H0cRPj5"
      },
      "source": [
        "## Exercise 2"
      ]
    },
    {
      "cell_type": "markdown",
      "metadata": {
        "id": "AWsB8PGTSE6S"
      },
      "source": [
        "Create a PCA index wich reduces embedding dimension from 768 to 32 and:\n",
        "- Measure the time it requires to perform retrieval\n",
        "- Compute its Rank@K metrics\n",
        "\n",
        "\n",
        "**note**: make sure to create the index using the `faiss.index_factory(d, \"IDMap, PCA32, Flat\")` so that you can add image embeddings with the `add_with_ids` method\n"
      ]
    },
    {
      "cell_type": "code",
      "execution_count": null,
      "metadata": {
        "cellView": "form",
        "collapsed": true,
        "id": "66RW5OseSN7h"
      },
      "outputs": [],
      "source": [
        "#@title Solution\n",
        "\n",
        "pca_index = faiss.index_factory(d, \"IDMap,PCA32,Flat\")\n",
        "pca_index.train(image_embeddings)\n",
        "pca_index.add_with_ids(image_embeddings, product_ids)\n",
        "\n",
        "# try moving the index on GPU to speed up retrieval\n",
        "try:\n",
        "  res = faiss.StandardGpuResources()\n",
        "  pca_index = faiss.index_cpu_to_gpu(res, 0, pca_index)\n",
        "  print(\"Index moved on GPU!\")\n",
        "except:\n",
        "  print(\"GPU not available!\")\n",
        "\n",
        "start = time.time()\n",
        "D,I = pca_index.search(query_embeddings, k)\n",
        "print(f\"Result found in {time.time()-start} seconds\")\n",
        "\n",
        "rank_at_k = compute_rank_at_k(queries_ids, I, Ks)\n",
        "print_result(rank_at_k)"
      ]
    },
    {
      "cell_type": "markdown",
      "metadata": {
        "id": "32KoUKmmV5ky"
      },
      "source": [
        "## Compare Multiple Indices by Speed and Accuracy (Optional)"
      ]
    },
    {
      "cell_type": "code",
      "execution_count": null,
      "metadata": {
        "id": "Rfj1oyd4WEFR"
      },
      "outputs": [],
      "source": [
        "res = faiss.StandardGpuResources()\n",
        "index_types = [\"IDMap,Flat\",\n",
        "               \"IDMap,PCA32,Flat\",\n",
        "               \"IVF128,Flat\",\"PCA32,IVF128,Flat\",\n",
        "               \"IVF256,Flat\",\"PCA32,IVF256,Flat\",\n",
        "               \"IVF512,Flat\",\"PCA32,IVF512,Flat\",\n",
        "               \"IVF1024,Flat\", \"PCA32,IVF1024,Flat\"]\n",
        "\n",
        "k = 100 # find top-100 results\n",
        "nprobes = 3 # visit 3 cells when using IVF indices\n",
        "num_iterations = 10 # we run 10 searches for each index and take the average\n",
        "indices_results = {}\n",
        "\n",
        "use_gpu = False # change to True if you want to test results with gpu\n",
        "\n",
        "for index_type in index_types:\n",
        "    print(f\"=== TESING {index_type} ===\")\n",
        "    index = faiss.index_factory(d, index_type)\n",
        "    index.nprobe = nprobe\n",
        "\n",
        "    if use_gpu:\n",
        "      try:\n",
        "        index = faiss.index_cpu_to_gpu(res, 0, index)\n",
        "      except:\n",
        "        print(\"GPU not available!\")\n",
        "\n",
        "    if not index.is_trained:\n",
        "      index.train(image_embeddings)\n",
        "\n",
        "    index.add_with_ids(image_embeddings, product_ids)\n",
        "\n",
        "    retrieval_time =  avg_search_time(index, query_embeddings, k, num_iterations=num_iterations)\n",
        "    _, I = index.search(query_embeddings, k)     # actual search\n",
        "\n",
        "    rank_at_k = compute_rank_at_k(queries_ids, I, Ks)\n",
        "    sum_R = r_sum(rank_at_k)\n",
        "    indices_results[index_type] = (retrieval_time, sum_R*100)"
      ]
    },
    {
      "cell_type": "code",
      "execution_count": null,
      "metadata": {
        "id": "-4c2nFLicsMi"
      },
      "outputs": [],
      "source": [
        "for index_name ,v in indices_results.items():\n",
        "  plt.scatter(math.log2(v[0]), v[1], label=index_name)\n",
        "\n",
        "plt.legend(bbox_to_anchor=(1., 1.))\n",
        "plt.xlabel(\"t (s)\")\n",
        "plt.ylabel(\"sumR\")\n",
        "plt.title(\"Indices Comparison\")"
      ]
    }
  ],
  "metadata": {
    "colab": {
      "collapsed_sections": [
        "QdCHovraT7jH",
        "aBmHagv7XX0K",
        "g8tq7QPr8yIY",
        "1GzrkxhB_M5y",
        "EUB4RFYmK-Zi",
        "bMIEHxckcqNt",
        "bMXyAs7FOBdI",
        "OdlJLgVOOHOg"
      ],
      "provenance": [],
      "include_colab_link": true
    },
    "kernelspec": {
      "display_name": "Python 3",
      "name": "python3"
    },
    "language_info": {
      "name": "python"
    }
  },
  "nbformat": 4,
  "nbformat_minor": 0
}